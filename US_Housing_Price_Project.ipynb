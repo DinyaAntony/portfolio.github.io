{
  "nbformat": 4,
  "nbformat_minor": 0,
  "metadata": {
    "colab": {
      "name": "US_Housing_Price_Project.ipynb",
      "provenance": [],
      "collapsed_sections": [
        "ts1q2AAOP3ol",
        "lkcT93nWPjNu",
        "tZLYEILF58BX"
      ]
    },
    "kernelspec": {
      "name": "python3",
      "display_name": "Python 3"
    },
    "language_info": {
      "name": "python"
    }
  },
  "cells": [
    {
      "cell_type": "markdown",
      "source": [
        "# **Housing prices**"
      ],
      "metadata": {
        "id": "YFHSxbaHbERs"
      }
    },
    {
      "cell_type": "code",
      "execution_count": null,
      "metadata": {
        "id": "uhFs-2NrK5ZR"
      },
      "outputs": [],
      "source": [
        "#Import all necessary modules\n",
        "import pandas as pd  \n",
        "import numpy as np \n",
        "import matplotlib.pyplot as plt \n",
        "%matplotlib inline\n",
        "import seaborn as sns\n",
        "sns.set(color_codes=True)\n",
        "from warnings import filterwarnings\n",
        "filterwarnings(\"ignore\")\n",
        "import sklearn.metrics as metrics\n",
        "from sklearn.linear_model import LinearRegression\n",
        "from sklearn.model_selection import train_test_split"
      ]
    },
    {
      "cell_type": "code",
      "source": [
        "df = pd.read_excel('house.xlsx')"
      ],
      "metadata": {
        "id": "bN7rlpipMb4n"
      },
      "execution_count": null,
      "outputs": []
    },
    {
      "cell_type": "code",
      "source": [
        "pd.options.display.max_rows = 4000\n",
        "pd.options.display.max_columns= 4000"
      ],
      "metadata": {
        "id": "lrwBENWikZGO"
      },
      "execution_count": null,
      "outputs": []
    },
    {
      "cell_type": "code",
      "source": [
        "df.columns = df.columns.str.strip().str.replace(' ', '_').str.replace('(', '').str.replace(')', '').str.replace('%', 'perc').str.replace('/','_by_').str.replace('&','').str.replace('[', '_').str.replace(']', '').str.replace('-', '_').str.replace('No._Housing_units', 'No_Housing_units')"
      ],
      "metadata": {
        "id": "8mFg2WxqS7E7"
      },
      "execution_count": null,
      "outputs": []
    },
    {
      "cell_type": "code",
      "source": [
        "df.head()"
      ],
      "metadata": {
        "colab": {
          "base_uri": "https://localhost:8080/",
          "height": 356
        },
        "id": "YQVBirOUI_rE",
        "outputId": "14fe446b-de85-475d-e53d-adc929cecb24"
      },
      "execution_count": null,
      "outputs": [
        {
          "output_type": "execute_result",
          "data": {
            "text/plain": [
              "         DATE   Price$  Unemployment_Rate  Employment_Rate        GDP  \\\n",
              "0  2002-01-01  353.674           5.805100        72.160431  3348727.5   \n",
              "1  2002-04-01  362.148           5.915628        71.927346  3369339.0   \n",
              "2  2002-07-01  371.499           5.776747        71.904513  3382935.3   \n",
              "3  2002-10-01  380.025           5.937977        71.667275  3387355.3   \n",
              "4  2003-01-01  387.964           5.956569        71.502400  3404858.5   \n",
              "\n",
              "   Working_Age_Population  Dwellings_and_Residential_Buildings  \\\n",
              "0             182810138.0                             169890.0   \n",
              "1             183479837.3                             174066.8   \n",
              "2             184160854.6                             174738.3   \n",
              "3             184720284.3                             177653.3   \n",
              "4             185858601.6                             181073.8   \n",
              "\n",
              "   Essential_utilities_Cost_average  Housing_starts  No_Housing_units  \\\n",
              "0                         65.036667            5169            119061   \n",
              "1                         65.710000            5073            119483   \n",
              "2                         66.796667            5092            119909   \n",
              "3                         66.500000            5189            120350   \n",
              "4                         67.930000            5208            120792   \n",
              "\n",
              "   Mortgage_Rate30_Year  Homes_for_sale  Building_Permits  Rental_Vacancy  \\\n",
              "0              6.971538            12.3              5143            3403   \n",
              "1              6.813077            12.5              5143            3176   \n",
              "2              6.289231            12.1              5236            3375   \n",
              "3              6.075385            12.0              5466            3479   \n",
              "4              5.840769            12.6              5419            3568   \n",
              "\n",
              "   Homeownership_Rate  Homeowner_non_natives  Homeowner_Vacancy_Rate  \n",
              "0                67.9                   53.5                     1.7  \n",
              "1                67.8                   55.3                     1.7  \n",
              "2                67.9                   54.0                     1.7  \n",
              "3                68.2                   55.2                     1.7  \n",
              "4                68.1                   55.7                     1.7  "
            ],
            "text/html": [
              "\n",
              "  <div id=\"df-2dd84d7e-f449-435e-98d6-ceb2142667be\">\n",
              "    <div class=\"colab-df-container\">\n",
              "      <div>\n",
              "<style scoped>\n",
              "    .dataframe tbody tr th:only-of-type {\n",
              "        vertical-align: middle;\n",
              "    }\n",
              "\n",
              "    .dataframe tbody tr th {\n",
              "        vertical-align: top;\n",
              "    }\n",
              "\n",
              "    .dataframe thead th {\n",
              "        text-align: right;\n",
              "    }\n",
              "</style>\n",
              "<table border=\"1\" class=\"dataframe\">\n",
              "  <thead>\n",
              "    <tr style=\"text-align: right;\">\n",
              "      <th></th>\n",
              "      <th>DATE</th>\n",
              "      <th>Price$</th>\n",
              "      <th>Unemployment_Rate</th>\n",
              "      <th>Employment_Rate</th>\n",
              "      <th>GDP</th>\n",
              "      <th>Working_Age_Population</th>\n",
              "      <th>Dwellings_and_Residential_Buildings</th>\n",
              "      <th>Essential_utilities_Cost_average</th>\n",
              "      <th>Housing_starts</th>\n",
              "      <th>No_Housing_units</th>\n",
              "      <th>Mortgage_Rate30_Year</th>\n",
              "      <th>Homes_for_sale</th>\n",
              "      <th>Building_Permits</th>\n",
              "      <th>Rental_Vacancy</th>\n",
              "      <th>Homeownership_Rate</th>\n",
              "      <th>Homeowner_non_natives</th>\n",
              "      <th>Homeowner_Vacancy_Rate</th>\n",
              "    </tr>\n",
              "  </thead>\n",
              "  <tbody>\n",
              "    <tr>\n",
              "      <th>0</th>\n",
              "      <td>2002-01-01</td>\n",
              "      <td>353.674</td>\n",
              "      <td>5.805100</td>\n",
              "      <td>72.160431</td>\n",
              "      <td>3348727.5</td>\n",
              "      <td>182810138.0</td>\n",
              "      <td>169890.0</td>\n",
              "      <td>65.036667</td>\n",
              "      <td>5169</td>\n",
              "      <td>119061</td>\n",
              "      <td>6.971538</td>\n",
              "      <td>12.3</td>\n",
              "      <td>5143</td>\n",
              "      <td>3403</td>\n",
              "      <td>67.9</td>\n",
              "      <td>53.5</td>\n",
              "      <td>1.7</td>\n",
              "    </tr>\n",
              "    <tr>\n",
              "      <th>1</th>\n",
              "      <td>2002-04-01</td>\n",
              "      <td>362.148</td>\n",
              "      <td>5.915628</td>\n",
              "      <td>71.927346</td>\n",
              "      <td>3369339.0</td>\n",
              "      <td>183479837.3</td>\n",
              "      <td>174066.8</td>\n",
              "      <td>65.710000</td>\n",
              "      <td>5073</td>\n",
              "      <td>119483</td>\n",
              "      <td>6.813077</td>\n",
              "      <td>12.5</td>\n",
              "      <td>5143</td>\n",
              "      <td>3176</td>\n",
              "      <td>67.8</td>\n",
              "      <td>55.3</td>\n",
              "      <td>1.7</td>\n",
              "    </tr>\n",
              "    <tr>\n",
              "      <th>2</th>\n",
              "      <td>2002-07-01</td>\n",
              "      <td>371.499</td>\n",
              "      <td>5.776747</td>\n",
              "      <td>71.904513</td>\n",
              "      <td>3382935.3</td>\n",
              "      <td>184160854.6</td>\n",
              "      <td>174738.3</td>\n",
              "      <td>66.796667</td>\n",
              "      <td>5092</td>\n",
              "      <td>119909</td>\n",
              "      <td>6.289231</td>\n",
              "      <td>12.1</td>\n",
              "      <td>5236</td>\n",
              "      <td>3375</td>\n",
              "      <td>67.9</td>\n",
              "      <td>54.0</td>\n",
              "      <td>1.7</td>\n",
              "    </tr>\n",
              "    <tr>\n",
              "      <th>3</th>\n",
              "      <td>2002-10-01</td>\n",
              "      <td>380.025</td>\n",
              "      <td>5.937977</td>\n",
              "      <td>71.667275</td>\n",
              "      <td>3387355.3</td>\n",
              "      <td>184720284.3</td>\n",
              "      <td>177653.3</td>\n",
              "      <td>66.500000</td>\n",
              "      <td>5189</td>\n",
              "      <td>120350</td>\n",
              "      <td>6.075385</td>\n",
              "      <td>12.0</td>\n",
              "      <td>5466</td>\n",
              "      <td>3479</td>\n",
              "      <td>68.2</td>\n",
              "      <td>55.2</td>\n",
              "      <td>1.7</td>\n",
              "    </tr>\n",
              "    <tr>\n",
              "      <th>4</th>\n",
              "      <td>2003-01-01</td>\n",
              "      <td>387.964</td>\n",
              "      <td>5.956569</td>\n",
              "      <td>71.502400</td>\n",
              "      <td>3404858.5</td>\n",
              "      <td>185858601.6</td>\n",
              "      <td>181073.8</td>\n",
              "      <td>67.930000</td>\n",
              "      <td>5208</td>\n",
              "      <td>120792</td>\n",
              "      <td>5.840769</td>\n",
              "      <td>12.6</td>\n",
              "      <td>5419</td>\n",
              "      <td>3568</td>\n",
              "      <td>68.1</td>\n",
              "      <td>55.7</td>\n",
              "      <td>1.7</td>\n",
              "    </tr>\n",
              "  </tbody>\n",
              "</table>\n",
              "</div>\n",
              "      <button class=\"colab-df-convert\" onclick=\"convertToInteractive('df-2dd84d7e-f449-435e-98d6-ceb2142667be')\"\n",
              "              title=\"Convert this dataframe to an interactive table.\"\n",
              "              style=\"display:none;\">\n",
              "        \n",
              "  <svg xmlns=\"http://www.w3.org/2000/svg\" height=\"24px\"viewBox=\"0 0 24 24\"\n",
              "       width=\"24px\">\n",
              "    <path d=\"M0 0h24v24H0V0z\" fill=\"none\"/>\n",
              "    <path d=\"M18.56 5.44l.94 2.06.94-2.06 2.06-.94-2.06-.94-.94-2.06-.94 2.06-2.06.94zm-11 1L8.5 8.5l.94-2.06 2.06-.94-2.06-.94L8.5 2.5l-.94 2.06-2.06.94zm10 10l.94 2.06.94-2.06 2.06-.94-2.06-.94-.94-2.06-.94 2.06-2.06.94z\"/><path d=\"M17.41 7.96l-1.37-1.37c-.4-.4-.92-.59-1.43-.59-.52 0-1.04.2-1.43.59L10.3 9.45l-7.72 7.72c-.78.78-.78 2.05 0 2.83L4 21.41c.39.39.9.59 1.41.59.51 0 1.02-.2 1.41-.59l7.78-7.78 2.81-2.81c.8-.78.8-2.07 0-2.86zM5.41 20L4 18.59l7.72-7.72 1.47 1.35L5.41 20z\"/>\n",
              "  </svg>\n",
              "      </button>\n",
              "      \n",
              "  <style>\n",
              "    .colab-df-container {\n",
              "      display:flex;\n",
              "      flex-wrap:wrap;\n",
              "      gap: 12px;\n",
              "    }\n",
              "\n",
              "    .colab-df-convert {\n",
              "      background-color: #E8F0FE;\n",
              "      border: none;\n",
              "      border-radius: 50%;\n",
              "      cursor: pointer;\n",
              "      display: none;\n",
              "      fill: #1967D2;\n",
              "      height: 32px;\n",
              "      padding: 0 0 0 0;\n",
              "      width: 32px;\n",
              "    }\n",
              "\n",
              "    .colab-df-convert:hover {\n",
              "      background-color: #E2EBFA;\n",
              "      box-shadow: 0px 1px 2px rgba(60, 64, 67, 0.3), 0px 1px 3px 1px rgba(60, 64, 67, 0.15);\n",
              "      fill: #174EA6;\n",
              "    }\n",
              "\n",
              "    [theme=dark] .colab-df-convert {\n",
              "      background-color: #3B4455;\n",
              "      fill: #D2E3FC;\n",
              "    }\n",
              "\n",
              "    [theme=dark] .colab-df-convert:hover {\n",
              "      background-color: #434B5C;\n",
              "      box-shadow: 0px 1px 3px 1px rgba(0, 0, 0, 0.15);\n",
              "      filter: drop-shadow(0px 1px 2px rgba(0, 0, 0, 0.3));\n",
              "      fill: #FFFFFF;\n",
              "    }\n",
              "  </style>\n",
              "\n",
              "      <script>\n",
              "        const buttonEl =\n",
              "          document.querySelector('#df-2dd84d7e-f449-435e-98d6-ceb2142667be button.colab-df-convert');\n",
              "        buttonEl.style.display =\n",
              "          google.colab.kernel.accessAllowed ? 'block' : 'none';\n",
              "\n",
              "        async function convertToInteractive(key) {\n",
              "          const element = document.querySelector('#df-2dd84d7e-f449-435e-98d6-ceb2142667be');\n",
              "          const dataTable =\n",
              "            await google.colab.kernel.invokeFunction('convertToInteractive',\n",
              "                                                     [key], {});\n",
              "          if (!dataTable) return;\n",
              "\n",
              "          const docLinkHtml = 'Like what you see? Visit the ' +\n",
              "            '<a target=\"_blank\" href=https://colab.research.google.com/notebooks/data_table.ipynb>data table notebook</a>'\n",
              "            + ' to learn more about interactive tables.';\n",
              "          element.innerHTML = '';\n",
              "          dataTable['output_type'] = 'display_data';\n",
              "          await google.colab.output.renderOutput(dataTable, element);\n",
              "          const docLink = document.createElement('div');\n",
              "          docLink.innerHTML = docLinkHtml;\n",
              "          element.appendChild(docLink);\n",
              "        }\n",
              "      </script>\n",
              "    </div>\n",
              "  </div>\n",
              "  "
            ]
          },
          "metadata": {},
          "execution_count": 767
        }
      ]
    },
    {
      "cell_type": "code",
      "source": [
        "print('The number of rows (observations) is',df.shape[0],'\\n''The number of columns (variables) is',df.shape[1])"
      ],
      "metadata": {
        "colab": {
          "base_uri": "https://localhost:8080/"
        },
        "id": "kFMz3OetPA5X",
        "outputId": "6abc08ae-2352-45fb-af97-ca414f089f37"
      },
      "execution_count": null,
      "outputs": [
        {
          "output_type": "stream",
          "name": "stdout",
          "text": [
            "The number of rows (observations) is 81 \n",
            "The number of columns (variables) is 17\n"
          ]
        }
      ]
    },
    {
      "cell_type": "code",
      "source": [
        "df.head()"
      ],
      "metadata": {
        "colab": {
          "base_uri": "https://localhost:8080/",
          "height": 356
        },
        "id": "YNK5uy-aOXwh",
        "outputId": "e890633c-7a7b-4332-9a1e-f1342a856e29"
      },
      "execution_count": null,
      "outputs": [
        {
          "output_type": "execute_result",
          "data": {
            "text/plain": [
              "         DATE   Price$  Unemployment_Rate  Employment_Rate        GDP  \\\n",
              "0  2002-01-01  353.674           5.805100        72.160431  3348727.5   \n",
              "1  2002-04-01  362.148           5.915628        71.927346  3369339.0   \n",
              "2  2002-07-01  371.499           5.776747        71.904513  3382935.3   \n",
              "3  2002-10-01  380.025           5.937977        71.667275  3387355.3   \n",
              "4  2003-01-01  387.964           5.956569        71.502400  3404858.5   \n",
              "\n",
              "   Working_Age_Population  Dwellings_and_Residential_Buildings  \\\n",
              "0             182810138.0                             169890.0   \n",
              "1             183479837.3                             174066.8   \n",
              "2             184160854.6                             174738.3   \n",
              "3             184720284.3                             177653.3   \n",
              "4             185858601.6                             181073.8   \n",
              "\n",
              "   Essential_utilities_Cost_average  Housing_starts  No_Housing_units  \\\n",
              "0                         65.036667            5169            119061   \n",
              "1                         65.710000            5073            119483   \n",
              "2                         66.796667            5092            119909   \n",
              "3                         66.500000            5189            120350   \n",
              "4                         67.930000            5208            120792   \n",
              "\n",
              "   Mortgage_Rate30_Year  Homes_for_sale  Building_Permits  Rental_Vacancy  \\\n",
              "0              6.971538            12.3              5143            3403   \n",
              "1              6.813077            12.5              5143            3176   \n",
              "2              6.289231            12.1              5236            3375   \n",
              "3              6.075385            12.0              5466            3479   \n",
              "4              5.840769            12.6              5419            3568   \n",
              "\n",
              "   Homeownership_Rate  Homeowner_non_natives  Homeowner_Vacancy_Rate  \n",
              "0                67.9                   53.5                     1.7  \n",
              "1                67.8                   55.3                     1.7  \n",
              "2                67.9                   54.0                     1.7  \n",
              "3                68.2                   55.2                     1.7  \n",
              "4                68.1                   55.7                     1.7  "
            ],
            "text/html": [
              "\n",
              "  <div id=\"df-85e1fda1-4b59-4dee-85df-9b15fe75790e\">\n",
              "    <div class=\"colab-df-container\">\n",
              "      <div>\n",
              "<style scoped>\n",
              "    .dataframe tbody tr th:only-of-type {\n",
              "        vertical-align: middle;\n",
              "    }\n",
              "\n",
              "    .dataframe tbody tr th {\n",
              "        vertical-align: top;\n",
              "    }\n",
              "\n",
              "    .dataframe thead th {\n",
              "        text-align: right;\n",
              "    }\n",
              "</style>\n",
              "<table border=\"1\" class=\"dataframe\">\n",
              "  <thead>\n",
              "    <tr style=\"text-align: right;\">\n",
              "      <th></th>\n",
              "      <th>DATE</th>\n",
              "      <th>Price$</th>\n",
              "      <th>Unemployment_Rate</th>\n",
              "      <th>Employment_Rate</th>\n",
              "      <th>GDP</th>\n",
              "      <th>Working_Age_Population</th>\n",
              "      <th>Dwellings_and_Residential_Buildings</th>\n",
              "      <th>Essential_utilities_Cost_average</th>\n",
              "      <th>Housing_starts</th>\n",
              "      <th>No_Housing_units</th>\n",
              "      <th>Mortgage_Rate30_Year</th>\n",
              "      <th>Homes_for_sale</th>\n",
              "      <th>Building_Permits</th>\n",
              "      <th>Rental_Vacancy</th>\n",
              "      <th>Homeownership_Rate</th>\n",
              "      <th>Homeowner_non_natives</th>\n",
              "      <th>Homeowner_Vacancy_Rate</th>\n",
              "    </tr>\n",
              "  </thead>\n",
              "  <tbody>\n",
              "    <tr>\n",
              "      <th>0</th>\n",
              "      <td>2002-01-01</td>\n",
              "      <td>353.674</td>\n",
              "      <td>5.805100</td>\n",
              "      <td>72.160431</td>\n",
              "      <td>3348727.5</td>\n",
              "      <td>182810138.0</td>\n",
              "      <td>169890.0</td>\n",
              "      <td>65.036667</td>\n",
              "      <td>5169</td>\n",
              "      <td>119061</td>\n",
              "      <td>6.971538</td>\n",
              "      <td>12.3</td>\n",
              "      <td>5143</td>\n",
              "      <td>3403</td>\n",
              "      <td>67.9</td>\n",
              "      <td>53.5</td>\n",
              "      <td>1.7</td>\n",
              "    </tr>\n",
              "    <tr>\n",
              "      <th>1</th>\n",
              "      <td>2002-04-01</td>\n",
              "      <td>362.148</td>\n",
              "      <td>5.915628</td>\n",
              "      <td>71.927346</td>\n",
              "      <td>3369339.0</td>\n",
              "      <td>183479837.3</td>\n",
              "      <td>174066.8</td>\n",
              "      <td>65.710000</td>\n",
              "      <td>5073</td>\n",
              "      <td>119483</td>\n",
              "      <td>6.813077</td>\n",
              "      <td>12.5</td>\n",
              "      <td>5143</td>\n",
              "      <td>3176</td>\n",
              "      <td>67.8</td>\n",
              "      <td>55.3</td>\n",
              "      <td>1.7</td>\n",
              "    </tr>\n",
              "    <tr>\n",
              "      <th>2</th>\n",
              "      <td>2002-07-01</td>\n",
              "      <td>371.499</td>\n",
              "      <td>5.776747</td>\n",
              "      <td>71.904513</td>\n",
              "      <td>3382935.3</td>\n",
              "      <td>184160854.6</td>\n",
              "      <td>174738.3</td>\n",
              "      <td>66.796667</td>\n",
              "      <td>5092</td>\n",
              "      <td>119909</td>\n",
              "      <td>6.289231</td>\n",
              "      <td>12.1</td>\n",
              "      <td>5236</td>\n",
              "      <td>3375</td>\n",
              "      <td>67.9</td>\n",
              "      <td>54.0</td>\n",
              "      <td>1.7</td>\n",
              "    </tr>\n",
              "    <tr>\n",
              "      <th>3</th>\n",
              "      <td>2002-10-01</td>\n",
              "      <td>380.025</td>\n",
              "      <td>5.937977</td>\n",
              "      <td>71.667275</td>\n",
              "      <td>3387355.3</td>\n",
              "      <td>184720284.3</td>\n",
              "      <td>177653.3</td>\n",
              "      <td>66.500000</td>\n",
              "      <td>5189</td>\n",
              "      <td>120350</td>\n",
              "      <td>6.075385</td>\n",
              "      <td>12.0</td>\n",
              "      <td>5466</td>\n",
              "      <td>3479</td>\n",
              "      <td>68.2</td>\n",
              "      <td>55.2</td>\n",
              "      <td>1.7</td>\n",
              "    </tr>\n",
              "    <tr>\n",
              "      <th>4</th>\n",
              "      <td>2003-01-01</td>\n",
              "      <td>387.964</td>\n",
              "      <td>5.956569</td>\n",
              "      <td>71.502400</td>\n",
              "      <td>3404858.5</td>\n",
              "      <td>185858601.6</td>\n",
              "      <td>181073.8</td>\n",
              "      <td>67.930000</td>\n",
              "      <td>5208</td>\n",
              "      <td>120792</td>\n",
              "      <td>5.840769</td>\n",
              "      <td>12.6</td>\n",
              "      <td>5419</td>\n",
              "      <td>3568</td>\n",
              "      <td>68.1</td>\n",
              "      <td>55.7</td>\n",
              "      <td>1.7</td>\n",
              "    </tr>\n",
              "  </tbody>\n",
              "</table>\n",
              "</div>\n",
              "      <button class=\"colab-df-convert\" onclick=\"convertToInteractive('df-85e1fda1-4b59-4dee-85df-9b15fe75790e')\"\n",
              "              title=\"Convert this dataframe to an interactive table.\"\n",
              "              style=\"display:none;\">\n",
              "        \n",
              "  <svg xmlns=\"http://www.w3.org/2000/svg\" height=\"24px\"viewBox=\"0 0 24 24\"\n",
              "       width=\"24px\">\n",
              "    <path d=\"M0 0h24v24H0V0z\" fill=\"none\"/>\n",
              "    <path d=\"M18.56 5.44l.94 2.06.94-2.06 2.06-.94-2.06-.94-.94-2.06-.94 2.06-2.06.94zm-11 1L8.5 8.5l.94-2.06 2.06-.94-2.06-.94L8.5 2.5l-.94 2.06-2.06.94zm10 10l.94 2.06.94-2.06 2.06-.94-2.06-.94-.94-2.06-.94 2.06-2.06.94z\"/><path d=\"M17.41 7.96l-1.37-1.37c-.4-.4-.92-.59-1.43-.59-.52 0-1.04.2-1.43.59L10.3 9.45l-7.72 7.72c-.78.78-.78 2.05 0 2.83L4 21.41c.39.39.9.59 1.41.59.51 0 1.02-.2 1.41-.59l7.78-7.78 2.81-2.81c.8-.78.8-2.07 0-2.86zM5.41 20L4 18.59l7.72-7.72 1.47 1.35L5.41 20z\"/>\n",
              "  </svg>\n",
              "      </button>\n",
              "      \n",
              "  <style>\n",
              "    .colab-df-container {\n",
              "      display:flex;\n",
              "      flex-wrap:wrap;\n",
              "      gap: 12px;\n",
              "    }\n",
              "\n",
              "    .colab-df-convert {\n",
              "      background-color: #E8F0FE;\n",
              "      border: none;\n",
              "      border-radius: 50%;\n",
              "      cursor: pointer;\n",
              "      display: none;\n",
              "      fill: #1967D2;\n",
              "      height: 32px;\n",
              "      padding: 0 0 0 0;\n",
              "      width: 32px;\n",
              "    }\n",
              "\n",
              "    .colab-df-convert:hover {\n",
              "      background-color: #E2EBFA;\n",
              "      box-shadow: 0px 1px 2px rgba(60, 64, 67, 0.3), 0px 1px 3px 1px rgba(60, 64, 67, 0.15);\n",
              "      fill: #174EA6;\n",
              "    }\n",
              "\n",
              "    [theme=dark] .colab-df-convert {\n",
              "      background-color: #3B4455;\n",
              "      fill: #D2E3FC;\n",
              "    }\n",
              "\n",
              "    [theme=dark] .colab-df-convert:hover {\n",
              "      background-color: #434B5C;\n",
              "      box-shadow: 0px 1px 3px 1px rgba(0, 0, 0, 0.15);\n",
              "      filter: drop-shadow(0px 1px 2px rgba(0, 0, 0, 0.3));\n",
              "      fill: #FFFFFF;\n",
              "    }\n",
              "  </style>\n",
              "\n",
              "      <script>\n",
              "        const buttonEl =\n",
              "          document.querySelector('#df-85e1fda1-4b59-4dee-85df-9b15fe75790e button.colab-df-convert');\n",
              "        buttonEl.style.display =\n",
              "          google.colab.kernel.accessAllowed ? 'block' : 'none';\n",
              "\n",
              "        async function convertToInteractive(key) {\n",
              "          const element = document.querySelector('#df-85e1fda1-4b59-4dee-85df-9b15fe75790e');\n",
              "          const dataTable =\n",
              "            await google.colab.kernel.invokeFunction('convertToInteractive',\n",
              "                                                     [key], {});\n",
              "          if (!dataTable) return;\n",
              "\n",
              "          const docLinkHtml = 'Like what you see? Visit the ' +\n",
              "            '<a target=\"_blank\" href=https://colab.research.google.com/notebooks/data_table.ipynb>data table notebook</a>'\n",
              "            + ' to learn more about interactive tables.';\n",
              "          element.innerHTML = '';\n",
              "          dataTable['output_type'] = 'display_data';\n",
              "          await google.colab.output.renderOutput(dataTable, element);\n",
              "          const docLink = document.createElement('div');\n",
              "          docLink.innerHTML = docLinkHtml;\n",
              "          element.appendChild(docLink);\n",
              "        }\n",
              "      </script>\n",
              "    </div>\n",
              "  </div>\n",
              "  "
            ]
          },
          "metadata": {},
          "execution_count": 769
        }
      ]
    },
    {
      "cell_type": "code",
      "source": [
        "df.info()"
      ],
      "metadata": {
        "colab": {
          "base_uri": "https://localhost:8080/"
        },
        "id": "H-H5GXWTOqwP",
        "outputId": "582fd289-4b6f-45ef-cc29-9eee496b6f4b"
      },
      "execution_count": null,
      "outputs": [
        {
          "output_type": "stream",
          "name": "stdout",
          "text": [
            "<class 'pandas.core.frame.DataFrame'>\n",
            "RangeIndex: 81 entries, 0 to 80\n",
            "Data columns (total 17 columns):\n",
            " #   Column                               Non-Null Count  Dtype  \n",
            "---  ------                               --------------  -----  \n",
            " 0   DATE                                 81 non-null     object \n",
            " 1   Price$                               81 non-null     float64\n",
            " 2   Unemployment_Rate                    81 non-null     float64\n",
            " 3   Employment_Rate                      81 non-null     float64\n",
            " 4   GDP                                  81 non-null     float64\n",
            " 5   Working_Age_Population               81 non-null     float64\n",
            " 6   Dwellings_and_Residential_Buildings  81 non-null     float64\n",
            " 7   Essential_utilities_Cost_average     81 non-null     float64\n",
            " 8   Housing_starts                       81 non-null     int64  \n",
            " 9   No_Housing_units                     81 non-null     int64  \n",
            " 10  Mortgage_Rate30_Year                 81 non-null     float64\n",
            " 11  Homes_for_sale                       81 non-null     float64\n",
            " 12  Building_Permits                     81 non-null     int64  \n",
            " 13  Rental_Vacancy                       81 non-null     int64  \n",
            " 14  Homeownership_Rate                   81 non-null     float64\n",
            " 15  Homeowner_non_natives                81 non-null     float64\n",
            " 16  Homeowner_Vacancy_Rate               81 non-null     float64\n",
            "dtypes: float64(12), int64(4), object(1)\n",
            "memory usage: 10.9+ KB\n"
          ]
        }
      ]
    },
    {
      "cell_type": "code",
      "source": [
        "print('The total number of elements in the dataset housing_price_US is', df.size)"
      ],
      "metadata": {
        "colab": {
          "base_uri": "https://localhost:8080/"
        },
        "id": "CLyS9HsJVB9z",
        "outputId": "f5e3b7fd-0b85-445f-8359-a13a67708f51"
      },
      "execution_count": null,
      "outputs": [
        {
          "output_type": "stream",
          "name": "stdout",
          "text": [
            "The total number of elements in the dataset housing_price_US is 1377\n"
          ]
        }
      ]
    },
    {
      "cell_type": "code",
      "source": [
        "df.duplicated().sum()"
      ],
      "metadata": {
        "colab": {
          "base_uri": "https://localhost:8080/"
        },
        "id": "cUWeWEhRyOy8",
        "outputId": "5edc49bb-fe78-4c7f-d960-f50e61f1d8af"
      },
      "execution_count": null,
      "outputs": [
        {
          "output_type": "execute_result",
          "data": {
            "text/plain": [
              "0"
            ]
          },
          "metadata": {},
          "execution_count": 772
        }
      ]
    },
    {
      "cell_type": "code",
      "source": [
        "round(df.describe().T,1)"
      ],
      "metadata": {
        "id": "VgVa-3XllEAR",
        "colab": {
          "base_uri": "https://localhost:8080/",
          "height": 551
        },
        "outputId": "ed1d14c9-1448-4f82-e364-d083d89d8fe4"
      },
      "execution_count": null,
      "outputs": [
        {
          "output_type": "execute_result",
          "data": {
            "text/plain": [
              "                                     count         mean        std  \\\n",
              "Price$                                81.0        519.9      106.7   \n",
              "Unemployment_Rate                     81.0          6.2        2.0   \n",
              "Employment_Rate                       81.0         69.5        2.1   \n",
              "GDP                                   81.0    4114652.4   432406.2   \n",
              "Working_Age_Population                81.0  199075199.8  6939986.3   \n",
              "Dwellings_and_Residential_Buildings   81.0     150434.3    37370.6   \n",
              "Essential_utilities_Cost_average      81.0         93.2       15.0   \n",
              "Housing_starts                        81.0       3786.8     1390.6   \n",
              "No_Housing_units                      81.0     132234.3     6264.9   \n",
              "Mortgage_Rate30_Year                  81.0          4.7        1.1   \n",
              "Homes_for_sale                        81.0         17.8        5.6   \n",
              "Building_Permits                      81.0       3959.0     1447.1   \n",
              "Rental_Vacancy                        81.0       3600.6      455.8   \n",
              "Homeownership_Rate                    81.0         66.3        1.9   \n",
              "Homeowner_non_natives                 81.0         56.4        2.1   \n",
              "Homeowner_Vacancy_Rate                81.0          1.9        0.5   \n",
              "\n",
              "                                             min          25%          50%  \\\n",
              "Price$                                     353.7        438.9        507.6   \n",
              "Unemployment_Rate                            3.6          4.7          5.7   \n",
              "Employment_Rate                             62.4         67.8         70.1   \n",
              "GDP                                    3348727.5    3820381.3    4044992.0   \n",
              "Working_Age_Population               182810138.0  195104005.9  201116681.2   \n",
              "Dwellings_and_Residential_Buildings      92679.5     120424.5     149354.3   \n",
              "Essential_utilities_Cost_average            65.0         82.5         92.9   \n",
              "Housing_starts                            1577.0       2802.0       3561.0   \n",
              "No_Housing_units                        119061.0     128439.0     132619.0   \n",
              "Mortgage_Rate30_Year                         2.8          3.8          4.4   \n",
              "Homes_for_sale                              10.2         13.7         16.4   \n",
              "Building_Permits                          1616.0       2965.0       3842.0   \n",
              "Rental_Vacancy                            2491.0       3243.0       3673.0   \n",
              "Homeownership_Rate                          63.1         64.7         66.0   \n",
              "Homeowner_non_natives                       51.2         55.0         56.0   \n",
              "Homeowner_Vacancy_Rate                       0.8          1.7          1.9   \n",
              "\n",
              "                                             75%          max  \n",
              "Price$                                     562.1        871.6  \n",
              "Unemployment_Rate                            7.4         13.2  \n",
              "Employment_Rate                             71.3         72.2  \n",
              "GDP                                    4453140.0    4951572.5  \n",
              "Working_Age_Population               205405713.6  207104199.1  \n",
              "Dwellings_and_Residential_Buildings     174738.3     223861.3  \n",
              "Essential_utilities_Cost_average           104.0        123.7  \n",
              "Housing_starts                            5037.0       6361.0  \n",
              "No_Housing_units                        136818.0     142939.0  \n",
              "Mortgage_Rate30_Year                         5.8          7.0  \n",
              "Homes_for_sale                              19.9         34.2  \n",
              "Building_Permits                          5143.0       6685.0  \n",
              "Rental_Vacancy                            3865.0       4625.0  \n",
              "Homeownership_Rate                          68.0         69.4  \n",
              "Homeowner_non_natives                       58.1         60.6  \n",
              "Homeowner_Vacancy_Rate                       2.4          2.9  "
            ],
            "text/html": [
              "\n",
              "  <div id=\"df-698c0a06-0403-4ffe-9c7f-6d8a590b6605\">\n",
              "    <div class=\"colab-df-container\">\n",
              "      <div>\n",
              "<style scoped>\n",
              "    .dataframe tbody tr th:only-of-type {\n",
              "        vertical-align: middle;\n",
              "    }\n",
              "\n",
              "    .dataframe tbody tr th {\n",
              "        vertical-align: top;\n",
              "    }\n",
              "\n",
              "    .dataframe thead th {\n",
              "        text-align: right;\n",
              "    }\n",
              "</style>\n",
              "<table border=\"1\" class=\"dataframe\">\n",
              "  <thead>\n",
              "    <tr style=\"text-align: right;\">\n",
              "      <th></th>\n",
              "      <th>count</th>\n",
              "      <th>mean</th>\n",
              "      <th>std</th>\n",
              "      <th>min</th>\n",
              "      <th>25%</th>\n",
              "      <th>50%</th>\n",
              "      <th>75%</th>\n",
              "      <th>max</th>\n",
              "    </tr>\n",
              "  </thead>\n",
              "  <tbody>\n",
              "    <tr>\n",
              "      <th>Price$</th>\n",
              "      <td>81.0</td>\n",
              "      <td>519.9</td>\n",
              "      <td>106.7</td>\n",
              "      <td>353.7</td>\n",
              "      <td>438.9</td>\n",
              "      <td>507.6</td>\n",
              "      <td>562.1</td>\n",
              "      <td>871.6</td>\n",
              "    </tr>\n",
              "    <tr>\n",
              "      <th>Unemployment_Rate</th>\n",
              "      <td>81.0</td>\n",
              "      <td>6.2</td>\n",
              "      <td>2.0</td>\n",
              "      <td>3.6</td>\n",
              "      <td>4.7</td>\n",
              "      <td>5.7</td>\n",
              "      <td>7.4</td>\n",
              "      <td>13.2</td>\n",
              "    </tr>\n",
              "    <tr>\n",
              "      <th>Employment_Rate</th>\n",
              "      <td>81.0</td>\n",
              "      <td>69.5</td>\n",
              "      <td>2.1</td>\n",
              "      <td>62.4</td>\n",
              "      <td>67.8</td>\n",
              "      <td>70.1</td>\n",
              "      <td>71.3</td>\n",
              "      <td>72.2</td>\n",
              "    </tr>\n",
              "    <tr>\n",
              "      <th>GDP</th>\n",
              "      <td>81.0</td>\n",
              "      <td>4114652.4</td>\n",
              "      <td>432406.2</td>\n",
              "      <td>3348727.5</td>\n",
              "      <td>3820381.3</td>\n",
              "      <td>4044992.0</td>\n",
              "      <td>4453140.0</td>\n",
              "      <td>4951572.5</td>\n",
              "    </tr>\n",
              "    <tr>\n",
              "      <th>Working_Age_Population</th>\n",
              "      <td>81.0</td>\n",
              "      <td>199075199.8</td>\n",
              "      <td>6939986.3</td>\n",
              "      <td>182810138.0</td>\n",
              "      <td>195104005.9</td>\n",
              "      <td>201116681.2</td>\n",
              "      <td>205405713.6</td>\n",
              "      <td>207104199.1</td>\n",
              "    </tr>\n",
              "    <tr>\n",
              "      <th>Dwellings_and_Residential_Buildings</th>\n",
              "      <td>81.0</td>\n",
              "      <td>150434.3</td>\n",
              "      <td>37370.6</td>\n",
              "      <td>92679.5</td>\n",
              "      <td>120424.5</td>\n",
              "      <td>149354.3</td>\n",
              "      <td>174738.3</td>\n",
              "      <td>223861.3</td>\n",
              "    </tr>\n",
              "    <tr>\n",
              "      <th>Essential_utilities_Cost_average</th>\n",
              "      <td>81.0</td>\n",
              "      <td>93.2</td>\n",
              "      <td>15.0</td>\n",
              "      <td>65.0</td>\n",
              "      <td>82.5</td>\n",
              "      <td>92.9</td>\n",
              "      <td>104.0</td>\n",
              "      <td>123.7</td>\n",
              "    </tr>\n",
              "    <tr>\n",
              "      <th>Housing_starts</th>\n",
              "      <td>81.0</td>\n",
              "      <td>3786.8</td>\n",
              "      <td>1390.6</td>\n",
              "      <td>1577.0</td>\n",
              "      <td>2802.0</td>\n",
              "      <td>3561.0</td>\n",
              "      <td>5037.0</td>\n",
              "      <td>6361.0</td>\n",
              "    </tr>\n",
              "    <tr>\n",
              "      <th>No_Housing_units</th>\n",
              "      <td>81.0</td>\n",
              "      <td>132234.3</td>\n",
              "      <td>6264.9</td>\n",
              "      <td>119061.0</td>\n",
              "      <td>128439.0</td>\n",
              "      <td>132619.0</td>\n",
              "      <td>136818.0</td>\n",
              "      <td>142939.0</td>\n",
              "    </tr>\n",
              "    <tr>\n",
              "      <th>Mortgage_Rate30_Year</th>\n",
              "      <td>81.0</td>\n",
              "      <td>4.7</td>\n",
              "      <td>1.1</td>\n",
              "      <td>2.8</td>\n",
              "      <td>3.8</td>\n",
              "      <td>4.4</td>\n",
              "      <td>5.8</td>\n",
              "      <td>7.0</td>\n",
              "    </tr>\n",
              "    <tr>\n",
              "      <th>Homes_for_sale</th>\n",
              "      <td>81.0</td>\n",
              "      <td>17.8</td>\n",
              "      <td>5.6</td>\n",
              "      <td>10.2</td>\n",
              "      <td>13.7</td>\n",
              "      <td>16.4</td>\n",
              "      <td>19.9</td>\n",
              "      <td>34.2</td>\n",
              "    </tr>\n",
              "    <tr>\n",
              "      <th>Building_Permits</th>\n",
              "      <td>81.0</td>\n",
              "      <td>3959.0</td>\n",
              "      <td>1447.1</td>\n",
              "      <td>1616.0</td>\n",
              "      <td>2965.0</td>\n",
              "      <td>3842.0</td>\n",
              "      <td>5143.0</td>\n",
              "      <td>6685.0</td>\n",
              "    </tr>\n",
              "    <tr>\n",
              "      <th>Rental_Vacancy</th>\n",
              "      <td>81.0</td>\n",
              "      <td>3600.6</td>\n",
              "      <td>455.8</td>\n",
              "      <td>2491.0</td>\n",
              "      <td>3243.0</td>\n",
              "      <td>3673.0</td>\n",
              "      <td>3865.0</td>\n",
              "      <td>4625.0</td>\n",
              "    </tr>\n",
              "    <tr>\n",
              "      <th>Homeownership_Rate</th>\n",
              "      <td>81.0</td>\n",
              "      <td>66.3</td>\n",
              "      <td>1.9</td>\n",
              "      <td>63.1</td>\n",
              "      <td>64.7</td>\n",
              "      <td>66.0</td>\n",
              "      <td>68.0</td>\n",
              "      <td>69.4</td>\n",
              "    </tr>\n",
              "    <tr>\n",
              "      <th>Homeowner_non_natives</th>\n",
              "      <td>81.0</td>\n",
              "      <td>56.4</td>\n",
              "      <td>2.1</td>\n",
              "      <td>51.2</td>\n",
              "      <td>55.0</td>\n",
              "      <td>56.0</td>\n",
              "      <td>58.1</td>\n",
              "      <td>60.6</td>\n",
              "    </tr>\n",
              "    <tr>\n",
              "      <th>Homeowner_Vacancy_Rate</th>\n",
              "      <td>81.0</td>\n",
              "      <td>1.9</td>\n",
              "      <td>0.5</td>\n",
              "      <td>0.8</td>\n",
              "      <td>1.7</td>\n",
              "      <td>1.9</td>\n",
              "      <td>2.4</td>\n",
              "      <td>2.9</td>\n",
              "    </tr>\n",
              "  </tbody>\n",
              "</table>\n",
              "</div>\n",
              "      <button class=\"colab-df-convert\" onclick=\"convertToInteractive('df-698c0a06-0403-4ffe-9c7f-6d8a590b6605')\"\n",
              "              title=\"Convert this dataframe to an interactive table.\"\n",
              "              style=\"display:none;\">\n",
              "        \n",
              "  <svg xmlns=\"http://www.w3.org/2000/svg\" height=\"24px\"viewBox=\"0 0 24 24\"\n",
              "       width=\"24px\">\n",
              "    <path d=\"M0 0h24v24H0V0z\" fill=\"none\"/>\n",
              "    <path d=\"M18.56 5.44l.94 2.06.94-2.06 2.06-.94-2.06-.94-.94-2.06-.94 2.06-2.06.94zm-11 1L8.5 8.5l.94-2.06 2.06-.94-2.06-.94L8.5 2.5l-.94 2.06-2.06.94zm10 10l.94 2.06.94-2.06 2.06-.94-2.06-.94-.94-2.06-.94 2.06-2.06.94z\"/><path d=\"M17.41 7.96l-1.37-1.37c-.4-.4-.92-.59-1.43-.59-.52 0-1.04.2-1.43.59L10.3 9.45l-7.72 7.72c-.78.78-.78 2.05 0 2.83L4 21.41c.39.39.9.59 1.41.59.51 0 1.02-.2 1.41-.59l7.78-7.78 2.81-2.81c.8-.78.8-2.07 0-2.86zM5.41 20L4 18.59l7.72-7.72 1.47 1.35L5.41 20z\"/>\n",
              "  </svg>\n",
              "      </button>\n",
              "      \n",
              "  <style>\n",
              "    .colab-df-container {\n",
              "      display:flex;\n",
              "      flex-wrap:wrap;\n",
              "      gap: 12px;\n",
              "    }\n",
              "\n",
              "    .colab-df-convert {\n",
              "      background-color: #E8F0FE;\n",
              "      border: none;\n",
              "      border-radius: 50%;\n",
              "      cursor: pointer;\n",
              "      display: none;\n",
              "      fill: #1967D2;\n",
              "      height: 32px;\n",
              "      padding: 0 0 0 0;\n",
              "      width: 32px;\n",
              "    }\n",
              "\n",
              "    .colab-df-convert:hover {\n",
              "      background-color: #E2EBFA;\n",
              "      box-shadow: 0px 1px 2px rgba(60, 64, 67, 0.3), 0px 1px 3px 1px rgba(60, 64, 67, 0.15);\n",
              "      fill: #174EA6;\n",
              "    }\n",
              "\n",
              "    [theme=dark] .colab-df-convert {\n",
              "      background-color: #3B4455;\n",
              "      fill: #D2E3FC;\n",
              "    }\n",
              "\n",
              "    [theme=dark] .colab-df-convert:hover {\n",
              "      background-color: #434B5C;\n",
              "      box-shadow: 0px 1px 3px 1px rgba(0, 0, 0, 0.15);\n",
              "      filter: drop-shadow(0px 1px 2px rgba(0, 0, 0, 0.3));\n",
              "      fill: #FFFFFF;\n",
              "    }\n",
              "  </style>\n",
              "\n",
              "      <script>\n",
              "        const buttonEl =\n",
              "          document.querySelector('#df-698c0a06-0403-4ffe-9c7f-6d8a590b6605 button.colab-df-convert');\n",
              "        buttonEl.style.display =\n",
              "          google.colab.kernel.accessAllowed ? 'block' : 'none';\n",
              "\n",
              "        async function convertToInteractive(key) {\n",
              "          const element = document.querySelector('#df-698c0a06-0403-4ffe-9c7f-6d8a590b6605');\n",
              "          const dataTable =\n",
              "            await google.colab.kernel.invokeFunction('convertToInteractive',\n",
              "                                                     [key], {});\n",
              "          if (!dataTable) return;\n",
              "\n",
              "          const docLinkHtml = 'Like what you see? Visit the ' +\n",
              "            '<a target=\"_blank\" href=https://colab.research.google.com/notebooks/data_table.ipynb>data table notebook</a>'\n",
              "            + ' to learn more about interactive tables.';\n",
              "          element.innerHTML = '';\n",
              "          dataTable['output_type'] = 'display_data';\n",
              "          await google.colab.output.renderOutput(dataTable, element);\n",
              "          const docLink = document.createElement('div');\n",
              "          docLink.innerHTML = docLinkHtml;\n",
              "          element.appendChild(docLink);\n",
              "        }\n",
              "      </script>\n",
              "    </div>\n",
              "  </div>\n",
              "  "
            ]
          },
          "metadata": {},
          "execution_count": 773
        }
      ]
    },
    {
      "cell_type": "code",
      "source": [
        "numerical = df.select_dtypes('number').columns\n",
        "feature_list = df.columns\n",
        "for i in numerical:\n",
        "    fig, ax = plt.subplots(1, 2, figsize=(20,6))\n",
        "    sns.histplot(data=df, x=i, ax=ax[0])\n",
        "    sns.boxplot(x=i, data=df, width=0.9, ax=ax[1])"
      ],
      "metadata": {
        "id": "HHD7SOjankoW",
        "colab": {
          "base_uri": "https://localhost:8080/",
          "height": 1000
        },
        "outputId": "8a9fe4c6-7ce3-41e5-a900-c0bc269a88ed"
      },
      "execution_count": null,
      "outputs": [
        {
          "output_type": "display_data",
          "data": {
            "text/plain": [
              "<Figure size 1440x432 with 2 Axes>"
            ],
            "image/png": "[encoded data removed]"
          },
          "metadata": {}
        },
        {
          "output_type": "display_data",
          "data": {
            "text/plain": [
              "<Figure size 1440x432 with 2 Axes>"
            ],
            "image/png": "[encoded data removed]"
          },
          "metadata": {}
        },
        {
          "output_type": "display_data",
          "data": {
            "text/plain": [
              "<Figure size 1440x432 with 2 Axes>"
            ],
            "image/png": "[encoded data removed]"
          },
          "metadata": {}
        },
        {
          "output_type": "display_data",
          "data": {
            "text/plain": [
              "<Figure size 1440x432 with 2 Axes>"
            ],
            "image/png": "[encoded data removed]"
          },
          "metadata": {}
        },
        {
          "output_type": "display_data",
          "data": {
            "text/plain": [
              "<Figure size 1440x432 with 2 Axes>"
            ],
            "image/png": "[encoded data removed]"
          },
          "metadata": {}
        },
        {
          "output_type": "display_data",
          "data": {
            "text/plain": [
              "<Figure size 1440x432 with 2 Axes>"
            ],
            "image/png": "[encoded data removed]"
          },
          "metadata": {}
        },
        {
          "output_type": "display_data",
          "data": {
            "text/plain": [
              "<Figure size 1440x432 with 2 Axes>"
            ],
            "image/png": "[encoded data removed]"
          },
          "metadata": {}
        },
        {
          "output_type": "display_data",
          "data": {
            "text/plain": [
              "<Figure size 1440x432 with 2 Axes>"
            ],
            "image/png": "[encoded data removed]"
          },
          "metadata": {}
        },
        {
          "output_type": "display_data",
          "data": {
            "text/plain": [
              "<Figure size 1440x432 with 2 Axes>"
            ],
            "image/png": "[encoded data removed]"
          },
          "metadata": {}
        },
        {
          "output_type": "display_data",
          "data": {
            "text/plain": [
              "<Figure size 1440x432 with 2 Axes>"
            ],
            "image/png": "[encoded data removed]"
          },
          "metadata": {}
        },
        {
          "output_type": "display_data",
          "data": {
            "text/plain": [
              "<Figure size 1440x432 with 2 Axes>"
            ],
            "image/png": "[encoded data removed]"
          },
          "metadata": {}
        },
        {
          "output_type": "display_data",
          "data": {
            "text/plain": [
              "<Figure size 1440x432 with 2 Axes>"
            ],
            "image/png": "[encoded data removed]"
          },
          "metadata": {}
        },
        {
          "output_type": "display_data",
          "data": {
            "text/plain": [
              "<Figure size 1440x432 with 2 Axes>"
            ],
            "image/png": "[encoded data removed]"
          },
          "metadata": {}
        },
        {
          "output_type": "display_data",
          "data": {
            "text/plain": [
              "<Figure size 1440x432 with 2 Axes>"
            ],
            "image/png": "[encoded data removed]"
          },
          "metadata": {}
        },
        {
          "output_type": "display_data",
          "data": {
            "text/plain": [
              "<Figure size 1440x432 with 2 Axes>"
            ],
            "image/png": "[encoded data removed]"
          },
          "metadata": {}
        },
        {
          "output_type": "display_data",
          "data": {
            "text/plain": [
              "<Figure size 1440x432 with 2 Axes>"
            ],
            "image/png": "[encoded data removed]"
          },
          "metadata": {}
        }
      ]
    },
    {
      "cell_type": "code",
      "source": [
        "df.columns"
      ],
      "metadata": {
        "colab": {
          "base_uri": "https://localhost:8080/"
        },
        "id": "fqPE6Z44ieAK",
        "outputId": "6eef3bcf-8d9c-432e-d139-d8509716e0c0"
      },
      "execution_count": null,
      "outputs": [
        {
          "output_type": "execute_result",
          "data": {
            "text/plain": [
              "Index(['DATE', 'Price$', 'Unemployment_Rate', 'Employment_Rate', 'GDP',\n",
              "       'Working_Age_Population', 'Dwellings_and_Residential_Buildings',\n",
              "       'Essential_utilities_Cost_average', 'Housing_starts',\n",
              "       'No_Housing_units', 'Mortgage_Rate30_Year', 'Homes_for_sale',\n",
              "       'Building_Permits', 'Rental_Vacancy', 'Homeownership_Rate',\n",
              "       'Homeowner_non_natives', 'Homeowner_Vacancy_Rate'],\n",
              "      dtype='object')"
            ]
          },
          "metadata": {},
          "execution_count": 775
        }
      ]
    },
    {
      "cell_type": "code",
      "source": [
        "plt.figure(figsize = (15,9))\n",
        "sns.heatmap(df.corr(), annot=True, fmt='.2f', cmap='Blues')\n",
        "plt.title('Heatmap')\n",
        "plt.xticks(rotation=90)\n",
        "plt.show()"
      ],
      "metadata": {
        "colab": {
          "base_uri": "https://localhost:8080/",
          "height": 747
        },
        "id": "Dn35v1DfjhJs",
        "outputId": "aa340e16-ebca-4967-cc7f-f663f81b830a"
      },
      "execution_count": null,
      "outputs": [
        {
          "output_type": "display_data",
          "data": {
            "text/plain": [
              "<Figure size 1080x648 with 2 Axes>"
            ],
            "image/png": "[encoded data removed]"
          },
          "metadata": {}
        }
      ]
    },
    {
      "cell_type": "markdown",
      "source": [
        "### **Outliers**"
      ],
      "metadata": {
        "id": "yhH5YFiWkvSx"
      }
    },
    {
      "cell_type": "code",
      "source": [
        "fig, ax = plt.subplots(1, 3, figsize=(22,6))\n",
        "sns.boxplot(df['Homes_for_sale'],  ax=ax[0])\n",
        "sns.boxplot(df['Unemployment_Rate'],  ax=ax[1])\n",
        "sns.boxplot(df['Employment_Rate'],  ax=ax[2])"
      ],
      "metadata": {
        "id": "kp3PWFQDknsb",
        "colab": {
          "base_uri": "https://localhost:8080/",
          "height": 412
        },
        "outputId": "de3bd765-9a54-4392-df80-40e15264b3f5"
      },
      "execution_count": null,
      "outputs": [
        {
          "output_type": "execute_result",
          "data": {
            "text/plain": [
              "<matplotlib.axes._subplots.AxesSubplot at 0x7fb884142790>"
            ]
          },
          "metadata": {},
          "execution_count": 777
        },
        {
          "output_type": "display_data",
          "data": {
            "text/plain": [
              "<Figure size 1584x432 with 3 Axes>"
            ],
            "image/png": "[encoded data removed]"
          },
          "metadata": {}
        }
      ]
    },
    {
      "cell_type": "code",
      "source": [
        "df.drop('DATE', axis=1, inplace=True)"
      ],
      "metadata": {
        "id": "-vTJL3TTo9jh"
      },
      "execution_count": null,
      "outputs": []
    },
    {
      "cell_type": "code",
      "source": [
        "df.head()"
      ],
      "metadata": {
        "id": "UEY8OaSNuMxG",
        "colab": {
          "base_uri": "https://localhost:8080/",
          "height": 270
        },
        "outputId": "add07d66-75a0-4915-f8a9-69b81d7d733e"
      },
      "execution_count": null,
      "outputs": [
        {
          "output_type": "execute_result",
          "data": {
            "text/plain": [
              "    Price$  Unemployment_Rate  Employment_Rate        GDP  \\\n",
              "0  353.674           5.805100        72.160431  3348727.5   \n",
              "1  362.148           5.915628        71.927346  3369339.0   \n",
              "2  371.499           5.776747        71.904513  3382935.3   \n",
              "3  380.025           5.937977        71.667275  3387355.3   \n",
              "4  387.964           5.956569        71.502400  3404858.5   \n",
              "\n",
              "   Working_Age_Population  Dwellings_and_Residential_Buildings  \\\n",
              "0             182810138.0                             169890.0   \n",
              "1             183479837.3                             174066.8   \n",
              "2             184160854.6                             174738.3   \n",
              "3             184720284.3                             177653.3   \n",
              "4             185858601.6                             181073.8   \n",
              "\n",
              "   Essential_utilities_Cost_average  Housing_starts  No_Housing_units  \\\n",
              "0                         65.036667            5169            119061   \n",
              "1                         65.710000            5073            119483   \n",
              "2                         66.796667            5092            119909   \n",
              "3                         66.500000            5189            120350   \n",
              "4                         67.930000            5208            120792   \n",
              "\n",
              "   Mortgage_Rate30_Year  Homes_for_sale  Building_Permits  Rental_Vacancy  \\\n",
              "0              6.971538            12.3              5143            3403   \n",
              "1              6.813077            12.5              5143            3176   \n",
              "2              6.289231            12.1              5236            3375   \n",
              "3              6.075385            12.0              5466            3479   \n",
              "4              5.840769            12.6              5419            3568   \n",
              "\n",
              "   Homeownership_Rate  Homeowner_non_natives  Homeowner_Vacancy_Rate  \n",
              "0                67.9                   53.5                     1.7  \n",
              "1                67.8                   55.3                     1.7  \n",
              "2                67.9                   54.0                     1.7  \n",
              "3                68.2                   55.2                     1.7  \n",
              "4                68.1                   55.7                     1.7  "
            ],
            "text/html": [
              "\n",
              "  <div id=\"df-f20540ac-a6e8-456a-bd34-01bbab952dba\">\n",
              "    <div class=\"colab-df-container\">\n",
              "      <div>\n",
              "<style scoped>\n",
              "    .dataframe tbody tr th:only-of-type {\n",
              "        vertical-align: middle;\n",
              "    }\n",
              "\n",
              "    .dataframe tbody tr th {\n",
              "        vertical-align: top;\n",
              "    }\n",
              "\n",
              "    .dataframe thead th {\n",
              "        text-align: right;\n",
              "    }\n",
              "</style>\n",
              "<table border=\"1\" class=\"dataframe\">\n",
              "  <thead>\n",
              "    <tr style=\"text-align: right;\">\n",
              "      <th></th>\n",
              "      <th>Price$</th>\n",
              "      <th>Unemployment_Rate</th>\n",
              "      <th>Employment_Rate</th>\n",
              "      <th>GDP</th>\n",
              "      <th>Working_Age_Population</th>\n",
              "      <th>Dwellings_and_Residential_Buildings</th>\n",
              "      <th>Essential_utilities_Cost_average</th>\n",
              "      <th>Housing_starts</th>\n",
              "      <th>No_Housing_units</th>\n",
              "      <th>Mortgage_Rate30_Year</th>\n",
              "      <th>Homes_for_sale</th>\n",
              "      <th>Building_Permits</th>\n",
              "      <th>Rental_Vacancy</th>\n",
              "      <th>Homeownership_Rate</th>\n",
              "      <th>Homeowner_non_natives</th>\n",
              "      <th>Homeowner_Vacancy_Rate</th>\n",
              "    </tr>\n",
              "  </thead>\n",
              "  <tbody>\n",
              "    <tr>\n",
              "      <th>0</th>\n",
              "      <td>353.674</td>\n",
              "      <td>5.805100</td>\n",
              "      <td>72.160431</td>\n",
              "      <td>3348727.5</td>\n",
              "      <td>182810138.0</td>\n",
              "      <td>169890.0</td>\n",
              "      <td>65.036667</td>\n",
              "      <td>5169</td>\n",
              "      <td>119061</td>\n",
              "      <td>6.971538</td>\n",
              "      <td>12.3</td>\n",
              "      <td>5143</td>\n",
              "      <td>3403</td>\n",
              "      <td>67.9</td>\n",
              "      <td>53.5</td>\n",
              "      <td>1.7</td>\n",
              "    </tr>\n",
              "    <tr>\n",
              "      <th>1</th>\n",
              "      <td>362.148</td>\n",
              "      <td>5.915628</td>\n",
              "      <td>71.927346</td>\n",
              "      <td>3369339.0</td>\n",
              "      <td>183479837.3</td>\n",
              "      <td>174066.8</td>\n",
              "      <td>65.710000</td>\n",
              "      <td>5073</td>\n",
              "      <td>119483</td>\n",
              "      <td>6.813077</td>\n",
              "      <td>12.5</td>\n",
              "      <td>5143</td>\n",
              "      <td>3176</td>\n",
              "      <td>67.8</td>\n",
              "      <td>55.3</td>\n",
              "      <td>1.7</td>\n",
              "    </tr>\n",
              "    <tr>\n",
              "      <th>2</th>\n",
              "      <td>371.499</td>\n",
              "      <td>5.776747</td>\n",
              "      <td>71.904513</td>\n",
              "      <td>3382935.3</td>\n",
              "      <td>184160854.6</td>\n",
              "      <td>174738.3</td>\n",
              "      <td>66.796667</td>\n",
              "      <td>5092</td>\n",
              "      <td>119909</td>\n",
              "      <td>6.289231</td>\n",
              "      <td>12.1</td>\n",
              "      <td>5236</td>\n",
              "      <td>3375</td>\n",
              "      <td>67.9</td>\n",
              "      <td>54.0</td>\n",
              "      <td>1.7</td>\n",
              "    </tr>\n",
              "    <tr>\n",
              "      <th>3</th>\n",
              "      <td>380.025</td>\n",
              "      <td>5.937977</td>\n",
              "      <td>71.667275</td>\n",
              "      <td>3387355.3</td>\n",
              "      <td>184720284.3</td>\n",
              "      <td>177653.3</td>\n",
              "      <td>66.500000</td>\n",
              "      <td>5189</td>\n",
              "      <td>120350</td>\n",
              "      <td>6.075385</td>\n",
              "      <td>12.0</td>\n",
              "      <td>5466</td>\n",
              "      <td>3479</td>\n",
              "      <td>68.2</td>\n",
              "      <td>55.2</td>\n",
              "      <td>1.7</td>\n",
              "    </tr>\n",
              "    <tr>\n",
              "      <th>4</th>\n",
              "      <td>387.964</td>\n",
              "      <td>5.956569</td>\n",
              "      <td>71.502400</td>\n",
              "      <td>3404858.5</td>\n",
              "      <td>185858601.6</td>\n",
              "      <td>181073.8</td>\n",
              "      <td>67.930000</td>\n",
              "      <td>5208</td>\n",
              "      <td>120792</td>\n",
              "      <td>5.840769</td>\n",
              "      <td>12.6</td>\n",
              "      <td>5419</td>\n",
              "      <td>3568</td>\n",
              "      <td>68.1</td>\n",
              "      <td>55.7</td>\n",
              "      <td>1.7</td>\n",
              "    </tr>\n",
              "  </tbody>\n",
              "</table>\n",
              "</div>\n",
              "      <button class=\"colab-df-convert\" onclick=\"convertToInteractive('df-f20540ac-a6e8-456a-bd34-01bbab952dba')\"\n",
              "              title=\"Convert this dataframe to an interactive table.\"\n",
              "              style=\"display:none;\">\n",
              "        \n",
              "  <svg xmlns=\"http://www.w3.org/2000/svg\" height=\"24px\"viewBox=\"0 0 24 24\"\n",
              "       width=\"24px\">\n",
              "    <path d=\"M0 0h24v24H0V0z\" fill=\"none\"/>\n",
              "    <path d=\"M18.56 5.44l.94 2.06.94-2.06 2.06-.94-2.06-.94-.94-2.06-.94 2.06-2.06.94zm-11 1L8.5 8.5l.94-2.06 2.06-.94-2.06-.94L8.5 2.5l-.94 2.06-2.06.94zm10 10l.94 2.06.94-2.06 2.06-.94-2.06-.94-.94-2.06-.94 2.06-2.06.94z\"/><path d=\"M17.41 7.96l-1.37-1.37c-.4-.4-.92-.59-1.43-.59-.52 0-1.04.2-1.43.59L10.3 9.45l-7.72 7.72c-.78.78-.78 2.05 0 2.83L4 21.41c.39.39.9.59 1.41.59.51 0 1.02-.2 1.41-.59l7.78-7.78 2.81-2.81c.8-.78.8-2.07 0-2.86zM5.41 20L4 18.59l7.72-7.72 1.47 1.35L5.41 20z\"/>\n",
              "  </svg>\n",
              "      </button>\n",
              "      \n",
              "  <style>\n",
              "    .colab-df-container {\n",
              "      display:flex;\n",
              "      flex-wrap:wrap;\n",
              "      gap: 12px;\n",
              "    }\n",
              "\n",
              "    .colab-df-convert {\n",
              "      background-color: #E8F0FE;\n",
              "      border: none;\n",
              "      border-radius: 50%;\n",
              "      cursor: pointer;\n",
              "      display: none;\n",
              "      fill: #1967D2;\n",
              "      height: 32px;\n",
              "      padding: 0 0 0 0;\n",
              "      width: 32px;\n",
              "    }\n",
              "\n",
              "    .colab-df-convert:hover {\n",
              "      background-color: #E2EBFA;\n",
              "      box-shadow: 0px 1px 2px rgba(60, 64, 67, 0.3), 0px 1px 3px 1px rgba(60, 64, 67, 0.15);\n",
              "      fill: #174EA6;\n",
              "    }\n",
              "\n",
              "    [theme=dark] .colab-df-convert {\n",
              "      background-color: #3B4455;\n",
              "      fill: #D2E3FC;\n",
              "    }\n",
              "\n",
              "    [theme=dark] .colab-df-convert:hover {\n",
              "      background-color: #434B5C;\n",
              "      box-shadow: 0px 1px 3px 1px rgba(0, 0, 0, 0.15);\n",
              "      filter: drop-shadow(0px 1px 2px rgba(0, 0, 0, 0.3));\n",
              "      fill: #FFFFFF;\n",
              "    }\n",
              "  </style>\n",
              "\n",
              "      <script>\n",
              "        const buttonEl =\n",
              "          document.querySelector('#df-f20540ac-a6e8-456a-bd34-01bbab952dba button.colab-df-convert');\n",
              "        buttonEl.style.display =\n",
              "          google.colab.kernel.accessAllowed ? 'block' : 'none';\n",
              "\n",
              "        async function convertToInteractive(key) {\n",
              "          const element = document.querySelector('#df-f20540ac-a6e8-456a-bd34-01bbab952dba');\n",
              "          const dataTable =\n",
              "            await google.colab.kernel.invokeFunction('convertToInteractive',\n",
              "                                                     [key], {});\n",
              "          if (!dataTable) return;\n",
              "\n",
              "          const docLinkHtml = 'Like what you see? Visit the ' +\n",
              "            '<a target=\"_blank\" href=https://colab.research.google.com/notebooks/data_table.ipynb>data table notebook</a>'\n",
              "            + ' to learn more about interactive tables.';\n",
              "          element.innerHTML = '';\n",
              "          dataTable['output_type'] = 'display_data';\n",
              "          await google.colab.output.renderOutput(dataTable, element);\n",
              "          const docLink = document.createElement('div');\n",
              "          docLink.innerHTML = docLinkHtml;\n",
              "          element.appendChild(docLink);\n",
              "        }\n",
              "      </script>\n",
              "    </div>\n",
              "  </div>\n",
              "  "
            ]
          },
          "metadata": {},
          "execution_count": 779
        }
      ]
    },
    {
      "cell_type": "code",
      "source": [
        "from scipy.stats import skew\n",
        "print(round(skew(df['Price$']),2))"
      ],
      "metadata": {
        "colab": {
          "base_uri": "https://localhost:8080/"
        },
        "id": "frdAiEAW5zd3",
        "outputId": "1fa41dd7-8a46-4376-d4d6-e0073364dd47"
      },
      "execution_count": null,
      "outputs": [
        {
          "output_type": "stream",
          "name": "stdout",
          "text": [
            "1.08\n"
          ]
        }
      ]
    },
    {
      "cell_type": "markdown",
      "source": [
        "## **Linear Regression**"
      ],
      "metadata": {
        "id": "7u_PFhK08Wdo"
      }
    },
    {
      "cell_type": "markdown",
      "source": [
        "**Data Split: Split the data into test and train**"
      ],
      "metadata": {
        "id": "R-OqbThS8M_-"
      }
    },
    {
      "cell_type": "markdown",
      "source": [
        "**Extracting the target for training set and test set**"
      ],
      "metadata": {
        "id": "12k7Wnvd8amO"
      }
    },
    {
      "cell_type": "code",
      "source": [
        "df1 = df.copy()\n",
        "df1.head()"
      ],
      "metadata": {
        "colab": {
          "base_uri": "https://localhost:8080/",
          "height": 270
        },
        "id": "PtSOfFEzVHMi",
        "outputId": "142fee79-93ed-4a2c-9f4b-c7d202449886"
      },
      "execution_count": null,
      "outputs": [
        {
          "output_type": "execute_result",
          "data": {
            "text/plain": [
              "    Price$  Unemployment_Rate  Employment_Rate        GDP  \\\n",
              "0  353.674           5.805100        72.160431  3348727.5   \n",
              "1  362.148           5.915628        71.927346  3369339.0   \n",
              "2  371.499           5.776747        71.904513  3382935.3   \n",
              "3  380.025           5.937977        71.667275  3387355.3   \n",
              "4  387.964           5.956569        71.502400  3404858.5   \n",
              "\n",
              "   Working_Age_Population  Dwellings_and_Residential_Buildings  \\\n",
              "0             182810138.0                             169890.0   \n",
              "1             183479837.3                             174066.8   \n",
              "2             184160854.6                             174738.3   \n",
              "3             184720284.3                             177653.3   \n",
              "4             185858601.6                             181073.8   \n",
              "\n",
              "   Essential_utilities_Cost_average  Housing_starts  No_Housing_units  \\\n",
              "0                         65.036667            5169            119061   \n",
              "1                         65.710000            5073            119483   \n",
              "2                         66.796667            5092            119909   \n",
              "3                         66.500000            5189            120350   \n",
              "4                         67.930000            5208            120792   \n",
              "\n",
              "   Mortgage_Rate30_Year  Homes_for_sale  Building_Permits  Rental_Vacancy  \\\n",
              "0              6.971538            12.3              5143            3403   \n",
              "1              6.813077            12.5              5143            3176   \n",
              "2              6.289231            12.1              5236            3375   \n",
              "3              6.075385            12.0              5466            3479   \n",
              "4              5.840769            12.6              5419            3568   \n",
              "\n",
              "   Homeownership_Rate  Homeowner_non_natives  Homeowner_Vacancy_Rate  \n",
              "0                67.9                   53.5                     1.7  \n",
              "1                67.8                   55.3                     1.7  \n",
              "2                67.9                   54.0                     1.7  \n",
              "3                68.2                   55.2                     1.7  \n",
              "4                68.1                   55.7                     1.7  "
            ],
            "text/html": [
              "\n",
              "  <div id=\"df-d22fcde7-7626-4a4e-a852-8a7f1a9cb7da\">\n",
              "    <div class=\"colab-df-container\">\n",
              "      <div>\n",
              "<style scoped>\n",
              "    .dataframe tbody tr th:only-of-type {\n",
              "        vertical-align: middle;\n",
              "    }\n",
              "\n",
              "    .dataframe tbody tr th {\n",
              "        vertical-align: top;\n",
              "    }\n",
              "\n",
              "    .dataframe thead th {\n",
              "        text-align: right;\n",
              "    }\n",
              "</style>\n",
              "<table border=\"1\" class=\"dataframe\">\n",
              "  <thead>\n",
              "    <tr style=\"text-align: right;\">\n",
              "      <th></th>\n",
              "      <th>Price$</th>\n",
              "      <th>Unemployment_Rate</th>\n",
              "      <th>Employment_Rate</th>\n",
              "      <th>GDP</th>\n",
              "      <th>Working_Age_Population</th>\n",
              "      <th>Dwellings_and_Residential_Buildings</th>\n",
              "      <th>Essential_utilities_Cost_average</th>\n",
              "      <th>Housing_starts</th>\n",
              "      <th>No_Housing_units</th>\n",
              "      <th>Mortgage_Rate30_Year</th>\n",
              "      <th>Homes_for_sale</th>\n",
              "      <th>Building_Permits</th>\n",
              "      <th>Rental_Vacancy</th>\n",
              "      <th>Homeownership_Rate</th>\n",
              "      <th>Homeowner_non_natives</th>\n",
              "      <th>Homeowner_Vacancy_Rate</th>\n",
              "    </tr>\n",
              "  </thead>\n",
              "  <tbody>\n",
              "    <tr>\n",
              "      <th>0</th>\n",
              "      <td>353.674</td>\n",
              "      <td>5.805100</td>\n",
              "      <td>72.160431</td>\n",
              "      <td>3348727.5</td>\n",
              "      <td>182810138.0</td>\n",
              "      <td>169890.0</td>\n",
              "      <td>65.036667</td>\n",
              "      <td>5169</td>\n",
              "      <td>119061</td>\n",
              "      <td>6.971538</td>\n",
              "      <td>12.3</td>\n",
              "      <td>5143</td>\n",
              "      <td>3403</td>\n",
              "      <td>67.9</td>\n",
              "      <td>53.5</td>\n",
              "      <td>1.7</td>\n",
              "    </tr>\n",
              "    <tr>\n",
              "      <th>1</th>\n",
              "      <td>362.148</td>\n",
              "      <td>5.915628</td>\n",
              "      <td>71.927346</td>\n",
              "      <td>3369339.0</td>\n",
              "      <td>183479837.3</td>\n",
              "      <td>174066.8</td>\n",
              "      <td>65.710000</td>\n",
              "      <td>5073</td>\n",
              "      <td>119483</td>\n",
              "      <td>6.813077</td>\n",
              "      <td>12.5</td>\n",
              "      <td>5143</td>\n",
              "      <td>3176</td>\n",
              "      <td>67.8</td>\n",
              "      <td>55.3</td>\n",
              "      <td>1.7</td>\n",
              "    </tr>\n",
              "    <tr>\n",
              "      <th>2</th>\n",
              "      <td>371.499</td>\n",
              "      <td>5.776747</td>\n",
              "      <td>71.904513</td>\n",
              "      <td>3382935.3</td>\n",
              "      <td>184160854.6</td>\n",
              "      <td>174738.3</td>\n",
              "      <td>66.796667</td>\n",
              "      <td>5092</td>\n",
              "      <td>119909</td>\n",
              "      <td>6.289231</td>\n",
              "      <td>12.1</td>\n",
              "      <td>5236</td>\n",
              "      <td>3375</td>\n",
              "      <td>67.9</td>\n",
              "      <td>54.0</td>\n",
              "      <td>1.7</td>\n",
              "    </tr>\n",
              "    <tr>\n",
              "      <th>3</th>\n",
              "      <td>380.025</td>\n",
              "      <td>5.937977</td>\n",
              "      <td>71.667275</td>\n",
              "      <td>3387355.3</td>\n",
              "      <td>184720284.3</td>\n",
              "      <td>177653.3</td>\n",
              "      <td>66.500000</td>\n",
              "      <td>5189</td>\n",
              "      <td>120350</td>\n",
              "      <td>6.075385</td>\n",
              "      <td>12.0</td>\n",
              "      <td>5466</td>\n",
              "      <td>3479</td>\n",
              "      <td>68.2</td>\n",
              "      <td>55.2</td>\n",
              "      <td>1.7</td>\n",
              "    </tr>\n",
              "    <tr>\n",
              "      <th>4</th>\n",
              "      <td>387.964</td>\n",
              "      <td>5.956569</td>\n",
              "      <td>71.502400</td>\n",
              "      <td>3404858.5</td>\n",
              "      <td>185858601.6</td>\n",
              "      <td>181073.8</td>\n",
              "      <td>67.930000</td>\n",
              "      <td>5208</td>\n",
              "      <td>120792</td>\n",
              "      <td>5.840769</td>\n",
              "      <td>12.6</td>\n",
              "      <td>5419</td>\n",
              "      <td>3568</td>\n",
              "      <td>68.1</td>\n",
              "      <td>55.7</td>\n",
              "      <td>1.7</td>\n",
              "    </tr>\n",
              "  </tbody>\n",
              "</table>\n",
              "</div>\n",
              "      <button class=\"colab-df-convert\" onclick=\"convertToInteractive('df-d22fcde7-7626-4a4e-a852-8a7f1a9cb7da')\"\n",
              "              title=\"Convert this dataframe to an interactive table.\"\n",
              "              style=\"display:none;\">\n",
              "        \n",
              "  <svg xmlns=\"http://www.w3.org/2000/svg\" height=\"24px\"viewBox=\"0 0 24 24\"\n",
              "       width=\"24px\">\n",
              "    <path d=\"M0 0h24v24H0V0z\" fill=\"none\"/>\n",
              "    <path d=\"M18.56 5.44l.94 2.06.94-2.06 2.06-.94-2.06-.94-.94-2.06-.94 2.06-2.06.94zm-11 1L8.5 8.5l.94-2.06 2.06-.94-2.06-.94L8.5 2.5l-.94 2.06-2.06.94zm10 10l.94 2.06.94-2.06 2.06-.94-2.06-.94-.94-2.06-.94 2.06-2.06.94z\"/><path d=\"M17.41 7.96l-1.37-1.37c-.4-.4-.92-.59-1.43-.59-.52 0-1.04.2-1.43.59L10.3 9.45l-7.72 7.72c-.78.78-.78 2.05 0 2.83L4 21.41c.39.39.9.59 1.41.59.51 0 1.02-.2 1.41-.59l7.78-7.78 2.81-2.81c.8-.78.8-2.07 0-2.86zM5.41 20L4 18.59l7.72-7.72 1.47 1.35L5.41 20z\"/>\n",
              "  </svg>\n",
              "      </button>\n",
              "      \n",
              "  <style>\n",
              "    .colab-df-container {\n",
              "      display:flex;\n",
              "      flex-wrap:wrap;\n",
              "      gap: 12px;\n",
              "    }\n",
              "\n",
              "    .colab-df-convert {\n",
              "      background-color: #E8F0FE;\n",
              "      border: none;\n",
              "      border-radius: 50%;\n",
              "      cursor: pointer;\n",
              "      display: none;\n",
              "      fill: #1967D2;\n",
              "      height: 32px;\n",
              "      padding: 0 0 0 0;\n",
              "      width: 32px;\n",
              "    }\n",
              "\n",
              "    .colab-df-convert:hover {\n",
              "      background-color: #E2EBFA;\n",
              "      box-shadow: 0px 1px 2px rgba(60, 64, 67, 0.3), 0px 1px 3px 1px rgba(60, 64, 67, 0.15);\n",
              "      fill: #174EA6;\n",
              "    }\n",
              "\n",
              "    [theme=dark] .colab-df-convert {\n",
              "      background-color: #3B4455;\n",
              "      fill: #D2E3FC;\n",
              "    }\n",
              "\n",
              "    [theme=dark] .colab-df-convert:hover {\n",
              "      background-color: #434B5C;\n",
              "      box-shadow: 0px 1px 3px 1px rgba(0, 0, 0, 0.15);\n",
              "      filter: drop-shadow(0px 1px 2px rgba(0, 0, 0, 0.3));\n",
              "      fill: #FFFFFF;\n",
              "    }\n",
              "  </style>\n",
              "\n",
              "      <script>\n",
              "        const buttonEl =\n",
              "          document.querySelector('#df-d22fcde7-7626-4a4e-a852-8a7f1a9cb7da button.colab-df-convert');\n",
              "        buttonEl.style.display =\n",
              "          google.colab.kernel.accessAllowed ? 'block' : 'none';\n",
              "\n",
              "        async function convertToInteractive(key) {\n",
              "          const element = document.querySelector('#df-d22fcde7-7626-4a4e-a852-8a7f1a9cb7da');\n",
              "          const dataTable =\n",
              "            await google.colab.kernel.invokeFunction('convertToInteractive',\n",
              "                                                     [key], {});\n",
              "          if (!dataTable) return;\n",
              "\n",
              "          const docLinkHtml = 'Like what you see? Visit the ' +\n",
              "            '<a target=\"_blank\" href=https://colab.research.google.com/notebooks/data_table.ipynb>data table notebook</a>'\n",
              "            + ' to learn more about interactive tables.';\n",
              "          element.innerHTML = '';\n",
              "          dataTable['output_type'] = 'display_data';\n",
              "          await google.colab.output.renderOutput(dataTable, element);\n",
              "          const docLink = document.createElement('div');\n",
              "          docLink.innerHTML = docLinkHtml;\n",
              "          element.appendChild(docLink);\n",
              "        }\n",
              "      </script>\n",
              "    </div>\n",
              "  </div>\n",
              "  "
            ]
          },
          "metadata": {},
          "execution_count": 781
        }
      ]
    },
    {
      "cell_type": "code",
      "source": [
        "X = df1.drop(\"Price$\", axis=1)\n",
        "y = df1.pop(\"Price$\")"
      ],
      "metadata": {
        "id": "p7kUUAjs5-vb"
      },
      "execution_count": null,
      "outputs": []
    },
    {
      "cell_type": "code",
      "source": [
        "from sklearn.preprocessing import MinMaxScaler\n",
        "minmax = MinMaxScaler()\n",
        "S_X = minmax.fit_transform(X)\n",
        "S_X = pd.DataFrame(S_X, columns=X.columns)  # ideally the training and test should be "
      ],
      "metadata": {
        "id": "cq6KGSn6D_mf"
      },
      "execution_count": null,
      "outputs": []
    },
    {
      "cell_type": "code",
      "source": [
        "X_train, X_test, y_train, y_test = train_test_split(S_X, y, test_size=0.30 , random_state=40)"
      ],
      "metadata": {
        "id": "T68kfdzb8yKt"
      },
      "execution_count": null,
      "outputs": []
    },
    {
      "cell_type": "code",
      "source": [
        "print('X_train',X_train.shape)\n",
        "print('X_test',X_test.shape)\n",
        "print('y_train',y_train.shape)\n",
        "print('y_test',y_test.shape)"
      ],
      "metadata": {
        "id": "qB6BmZt79NIs",
        "colab": {
          "base_uri": "https://localhost:8080/"
        },
        "outputId": "394dfbff-736d-4e21-cdef-ba84d1292318"
      },
      "execution_count": null,
      "outputs": [
        {
          "output_type": "stream",
          "name": "stdout",
          "text": [
            "X_train (56, 15)\n",
            "X_test (25, 15)\n",
            "y_train (56,)\n",
            "y_test (25,)\n"
          ]
        }
      ]
    },
    {
      "cell_type": "code",
      "source": [
        "regression_model = LinearRegression()\n",
        "regression_model.fit(X_train, y_train)"
      ],
      "metadata": {
        "id": "H58LlWC09QG1",
        "colab": {
          "base_uri": "https://localhost:8080/"
        },
        "outputId": "16fca110-02de-448e-9113-a6d34ea4c381"
      },
      "execution_count": null,
      "outputs": [
        {
          "output_type": "execute_result",
          "data": {
            "text/plain": [
              "LinearRegression()"
            ]
          },
          "metadata": {},
          "execution_count": 786
        }
      ]
    },
    {
      "cell_type": "markdown",
      "source": [
        "### **Rsquare**"
      ],
      "metadata": {
        "id": "ts1q2AAOP3ol"
      }
    },
    {
      "cell_type": "code",
      "source": [
        "from sklearn.metrics import mean_squared_error,r2_score\n",
        "print('The model score on traing set: ', round(regression_model.score(X_train, y_train),3))\n",
        "print('The model score on test set: ', round(regression_model.score(X_test, y_test),3))"
      ],
      "metadata": {
        "id": "IuvCzMvYkTf0",
        "colab": {
          "base_uri": "https://localhost:8080/"
        },
        "outputId": "80c3ea35-8598-496a-9557-dec6c11ac450"
      },
      "execution_count": null,
      "outputs": [
        {
          "output_type": "stream",
          "name": "stdout",
          "text": [
            "The model score on traing set:  0.981\n",
            "The model score on test set:  0.977\n"
          ]
        }
      ]
    },
    {
      "cell_type": "code",
      "source": [
        "ytest_predict =  regression_model.predict(X_test)\n",
        "ytrain_predict = regression_model.predict(X_train)"
      ],
      "metadata": {
        "id": "Cozxz5P6nPuX"
      },
      "execution_count": null,
      "outputs": []
    },
    {
      "cell_type": "code",
      "source": [
        "print('The model MSE on traing set: ', round(mean_squared_error(y_train,ytrain_predict),3))\n",
        "print('The model MSE on test set: ', round(mean_squared_error(y_test,ytest_predict),3))"
      ],
      "metadata": {
        "id": "SHdcj74-kR5P",
        "colab": {
          "base_uri": "https://localhost:8080/"
        },
        "outputId": "7db44cab-5eb5-4d40-a022-324fedda02a1"
      },
      "execution_count": null,
      "outputs": [
        {
          "output_type": "stream",
          "name": "stdout",
          "text": [
            "The model MSE on traing set:  211.007\n",
            "The model MSE on test set:  214.717\n"
          ]
        }
      ]
    },
    {
      "cell_type": "code",
      "source": [
        "print('The model R Squared on traing set: ', round(r2_score(y_train,ytrain_predict),3))\n",
        "print('The model R Squared on test set: ', round(r2_score(y_test,ytest_predict),3))"
      ],
      "metadata": {
        "id": "8F43ImmBk134",
        "colab": {
          "base_uri": "https://localhost:8080/"
        },
        "outputId": "5cf04b67-3324-4ee8-f2ba-afc01bd0dadc"
      },
      "execution_count": null,
      "outputs": [
        {
          "output_type": "stream",
          "name": "stdout",
          "text": [
            "The model R Squared on traing set:  0.981\n",
            "The model R Squared on test set:  0.977\n"
          ]
        }
      ]
    },
    {
      "cell_type": "markdown",
      "source": [
        "### **Adj Rsquare**"
      ],
      "metadata": {
        "id": "lkcT93nWPjNu"
      }
    },
    {
      "cell_type": "code",
      "source": [
        "data_train = pd.concat([X_train, y_train], axis=1)\n",
        "data_test = pd.concat([X_test, y_test], axis=1)"
      ],
      "metadata": {
        "id": "VEYQRzH2NLLN"
      },
      "execution_count": null,
      "outputs": []
    },
    {
      "cell_type": "code",
      "source": [
        "data_train.columns = data_train.columns.str.strip().str.replace(' ', '_').str.replace('(', '').str.replace(')', '').str.replace('%', 'perc').str.replace('/','_by_').str.replace('$','').str.replace('[', '_').str.replace(']', '').str.replace('-', '_').str.replace('No._Housing_units', 'No_Housing_units')\n",
        "data_train.head()"
      ],
      "metadata": {
        "colab": {
          "base_uri": "https://localhost:8080/",
          "height": 270
        },
        "id": "3hTpXopnSrQy",
        "outputId": "d1e50a34-e3fe-4498-aea5-384528349db1"
      },
      "execution_count": null,
      "outputs": [
        {
          "output_type": "execute_result",
          "data": {
            "text/plain": [
              "    Unemployment_Rate  Employment_Rate       GDP  Working_Age_Population  \\\n",
              "76           0.270448         0.607493  0.882921                0.912437   \n",
              "25           0.186162         0.898619  0.374001                0.559612   \n",
              "62           0.079893         0.798696  0.737956                0.943124   \n",
              "21           0.097645         0.948541  0.340468                0.519634   \n",
              "45           0.422382         0.498663  0.478757                0.799756   \n",
              "\n",
              "    Dwellings_and_Residential_Buildings  Essential_utilities_Cost_average  \\\n",
              "76                             0.665525                          0.861691   \n",
              "25                             0.295628                          0.422887   \n",
              "62                             0.443061                          0.710477   \n",
              "21                             0.618398                          0.321301   \n",
              "45                             0.211443                          0.516514   \n",
              "\n",
              "    Housing_starts  No_Housing_units  Mortgage_Rate30_Year  Homes_for_sale  \\\n",
              "76        0.661789          0.943546              0.027339        0.116667   \n",
              "25        0.304139          0.470810              0.789919        0.895833   \n",
              "62        0.411580          0.766103              0.266725        0.291667   \n",
              "21        0.580268          0.411550              0.854405        0.550000   \n",
              "45        0.214674          0.600846              0.216488        0.120833   \n",
              "\n",
              "    Building_Permits  Rental_Vacancy  Homeownership_Rate  \\\n",
              "76          0.738410        0.323336            0.396825   \n",
              "25          0.309134        0.716495            0.793651   \n",
              "62          0.439140        0.504686            0.126984   \n",
              "21          0.543302        0.596064            0.825397   \n",
              "45          0.264549        0.534208            0.317460   \n",
              "\n",
              "    Homeowner_non_natives  Homeowner_Vacancy_Rate    Price  \n",
              "76               0.627660                0.047619  726.425  \n",
              "25               0.765957                0.952381  500.012  \n",
              "62               0.372340                0.380952  578.008  \n",
              "21               0.872340                0.857143  544.866  \n",
              "45               0.351064                0.523810  458.569  "
            ],
            "text/html": [
              "\n",
              "  <div id=\"df-c8f17601-a4ca-4c75-b837-716a13acbb22\">\n",
              "    <div class=\"colab-df-container\">\n",
              "      <div>\n",
              "<style scoped>\n",
              "    .dataframe tbody tr th:only-of-type {\n",
              "        vertical-align: middle;\n",
              "    }\n",
              "\n",
              "    .dataframe tbody tr th {\n",
              "        vertical-align: top;\n",
              "    }\n",
              "\n",
              "    .dataframe thead th {\n",
              "        text-align: right;\n",
              "    }\n",
              "</style>\n",
              "<table border=\"1\" class=\"dataframe\">\n",
              "  <thead>\n",
              "    <tr style=\"text-align: right;\">\n",
              "      <th></th>\n",
              "      <th>Unemployment_Rate</th>\n",
              "      <th>Employment_Rate</th>\n",
              "      <th>GDP</th>\n",
              "      <th>Working_Age_Population</th>\n",
              "      <th>Dwellings_and_Residential_Buildings</th>\n",
              "      <th>Essential_utilities_Cost_average</th>\n",
              "      <th>Housing_starts</th>\n",
              "      <th>No_Housing_units</th>\n",
              "      <th>Mortgage_Rate30_Year</th>\n",
              "      <th>Homes_for_sale</th>\n",
              "      <th>Building_Permits</th>\n",
              "      <th>Rental_Vacancy</th>\n",
              "      <th>Homeownership_Rate</th>\n",
              "      <th>Homeowner_non_natives</th>\n",
              "      <th>Homeowner_Vacancy_Rate</th>\n",
              "      <th>Price</th>\n",
              "    </tr>\n",
              "  </thead>\n",
              "  <tbody>\n",
              "    <tr>\n",
              "      <th>76</th>\n",
              "      <td>0.270448</td>\n",
              "      <td>0.607493</td>\n",
              "      <td>0.882921</td>\n",
              "      <td>0.912437</td>\n",
              "      <td>0.665525</td>\n",
              "      <td>0.861691</td>\n",
              "      <td>0.661789</td>\n",
              "      <td>0.943546</td>\n",
              "      <td>0.027339</td>\n",
              "      <td>0.116667</td>\n",
              "      <td>0.738410</td>\n",
              "      <td>0.323336</td>\n",
              "      <td>0.396825</td>\n",
              "      <td>0.627660</td>\n",
              "      <td>0.047619</td>\n",
              "      <td>726.425</td>\n",
              "    </tr>\n",
              "    <tr>\n",
              "      <th>25</th>\n",
              "      <td>0.186162</td>\n",
              "      <td>0.898619</td>\n",
              "      <td>0.374001</td>\n",
              "      <td>0.559612</td>\n",
              "      <td>0.295628</td>\n",
              "      <td>0.422887</td>\n",
              "      <td>0.304139</td>\n",
              "      <td>0.470810</td>\n",
              "      <td>0.789919</td>\n",
              "      <td>0.895833</td>\n",
              "      <td>0.309134</td>\n",
              "      <td>0.716495</td>\n",
              "      <td>0.793651</td>\n",
              "      <td>0.765957</td>\n",
              "      <td>0.952381</td>\n",
              "      <td>500.012</td>\n",
              "    </tr>\n",
              "    <tr>\n",
              "      <th>62</th>\n",
              "      <td>0.079893</td>\n",
              "      <td>0.798696</td>\n",
              "      <td>0.737956</td>\n",
              "      <td>0.943124</td>\n",
              "      <td>0.443061</td>\n",
              "      <td>0.710477</td>\n",
              "      <td>0.411580</td>\n",
              "      <td>0.766103</td>\n",
              "      <td>0.266725</td>\n",
              "      <td>0.291667</td>\n",
              "      <td>0.439140</td>\n",
              "      <td>0.504686</td>\n",
              "      <td>0.126984</td>\n",
              "      <td>0.372340</td>\n",
              "      <td>0.380952</td>\n",
              "      <td>578.008</td>\n",
              "    </tr>\n",
              "    <tr>\n",
              "      <th>21</th>\n",
              "      <td>0.097645</td>\n",
              "      <td>0.948541</td>\n",
              "      <td>0.340468</td>\n",
              "      <td>0.519634</td>\n",
              "      <td>0.618398</td>\n",
              "      <td>0.321301</td>\n",
              "      <td>0.580268</td>\n",
              "      <td>0.411550</td>\n",
              "      <td>0.854405</td>\n",
              "      <td>0.550000</td>\n",
              "      <td>0.543302</td>\n",
              "      <td>0.596064</td>\n",
              "      <td>0.825397</td>\n",
              "      <td>0.872340</td>\n",
              "      <td>0.857143</td>\n",
              "      <td>544.866</td>\n",
              "    </tr>\n",
              "    <tr>\n",
              "      <th>45</th>\n",
              "      <td>0.422382</td>\n",
              "      <td>0.498663</td>\n",
              "      <td>0.478757</td>\n",
              "      <td>0.799756</td>\n",
              "      <td>0.211443</td>\n",
              "      <td>0.516514</td>\n",
              "      <td>0.214674</td>\n",
              "      <td>0.600846</td>\n",
              "      <td>0.216488</td>\n",
              "      <td>0.120833</td>\n",
              "      <td>0.264549</td>\n",
              "      <td>0.534208</td>\n",
              "      <td>0.317460</td>\n",
              "      <td>0.351064</td>\n",
              "      <td>0.523810</td>\n",
              "      <td>458.569</td>\n",
              "    </tr>\n",
              "  </tbody>\n",
              "</table>\n",
              "</div>\n",
              "      <button class=\"colab-df-convert\" onclick=\"convertToInteractive('df-c8f17601-a4ca-4c75-b837-716a13acbb22')\"\n",
              "              title=\"Convert this dataframe to an interactive table.\"\n",
              "              style=\"display:none;\">\n",
              "        \n",
              "  <svg xmlns=\"http://www.w3.org/2000/svg\" height=\"24px\"viewBox=\"0 0 24 24\"\n",
              "       width=\"24px\">\n",
              "    <path d=\"M0 0h24v24H0V0z\" fill=\"none\"/>\n",
              "    <path d=\"M18.56 5.44l.94 2.06.94-2.06 2.06-.94-2.06-.94-.94-2.06-.94 2.06-2.06.94zm-11 1L8.5 8.5l.94-2.06 2.06-.94-2.06-.94L8.5 2.5l-.94 2.06-2.06.94zm10 10l.94 2.06.94-2.06 2.06-.94-2.06-.94-.94-2.06-.94 2.06-2.06.94z\"/><path d=\"M17.41 7.96l-1.37-1.37c-.4-.4-.92-.59-1.43-.59-.52 0-1.04.2-1.43.59L10.3 9.45l-7.72 7.72c-.78.78-.78 2.05 0 2.83L4 21.41c.39.39.9.59 1.41.59.51 0 1.02-.2 1.41-.59l7.78-7.78 2.81-2.81c.8-.78.8-2.07 0-2.86zM5.41 20L4 18.59l7.72-7.72 1.47 1.35L5.41 20z\"/>\n",
              "  </svg>\n",
              "      </button>\n",
              "      \n",
              "  <style>\n",
              "    .colab-df-container {\n",
              "      display:flex;\n",
              "      flex-wrap:wrap;\n",
              "      gap: 12px;\n",
              "    }\n",
              "\n",
              "    .colab-df-convert {\n",
              "      background-color: #E8F0FE;\n",
              "      border: none;\n",
              "      border-radius: 50%;\n",
              "      cursor: pointer;\n",
              "      display: none;\n",
              "      fill: #1967D2;\n",
              "      height: 32px;\n",
              "      padding: 0 0 0 0;\n",
              "      width: 32px;\n",
              "    }\n",
              "\n",
              "    .colab-df-convert:hover {\n",
              "      background-color: #E2EBFA;\n",
              "      box-shadow: 0px 1px 2px rgba(60, 64, 67, 0.3), 0px 1px 3px 1px rgba(60, 64, 67, 0.15);\n",
              "      fill: #174EA6;\n",
              "    }\n",
              "\n",
              "    [theme=dark] .colab-df-convert {\n",
              "      background-color: #3B4455;\n",
              "      fill: #D2E3FC;\n",
              "    }\n",
              "\n",
              "    [theme=dark] .colab-df-convert:hover {\n",
              "      background-color: #434B5C;\n",
              "      box-shadow: 0px 1px 3px 1px rgba(0, 0, 0, 0.15);\n",
              "      filter: drop-shadow(0px 1px 2px rgba(0, 0, 0, 0.3));\n",
              "      fill: #FFFFFF;\n",
              "    }\n",
              "  </style>\n",
              "\n",
              "      <script>\n",
              "        const buttonEl =\n",
              "          document.querySelector('#df-c8f17601-a4ca-4c75-b837-716a13acbb22 button.colab-df-convert');\n",
              "        buttonEl.style.display =\n",
              "          google.colab.kernel.accessAllowed ? 'block' : 'none';\n",
              "\n",
              "        async function convertToInteractive(key) {\n",
              "          const element = document.querySelector('#df-c8f17601-a4ca-4c75-b837-716a13acbb22');\n",
              "          const dataTable =\n",
              "            await google.colab.kernel.invokeFunction('convertToInteractive',\n",
              "                                                     [key], {});\n",
              "          if (!dataTable) return;\n",
              "\n",
              "          const docLinkHtml = 'Like what you see? Visit the ' +\n",
              "            '<a target=\"_blank\" href=https://colab.research.google.com/notebooks/data_table.ipynb>data table notebook</a>'\n",
              "            + ' to learn more about interactive tables.';\n",
              "          element.innerHTML = '';\n",
              "          dataTable['output_type'] = 'display_data';\n",
              "          await google.colab.output.renderOutput(dataTable, element);\n",
              "          const docLink = document.createElement('div');\n",
              "          docLink.innerHTML = docLinkHtml;\n",
              "          element.appendChild(docLink);\n",
              "        }\n",
              "      </script>\n",
              "    </div>\n",
              "  </div>\n",
              "  "
            ]
          },
          "metadata": {},
          "execution_count": 792
        }
      ]
    },
    {
      "cell_type": "code",
      "source": [
        "data_test.columns = data_test.columns.str.strip().str.replace(' ', '_').str.replace('(', '').str.replace(')', '').str.replace('%', 'perc').str.replace('/','_by_').str.replace('&','and').str.replace('[', '_').str.replace(']', '').str.replace('-', '_').str.replace('No._Housing_units', 'No_Housing_units')"
      ],
      "metadata": {
        "id": "66K-Nbn7Sgzj"
      },
      "execution_count": null,
      "outputs": []
    },
    {
      "cell_type": "code",
      "source": [
        "import statsmodels.formula.api as smf\n",
        "lm1 = smf.ols(formula= 'Price ~ Unemployment_Rate+Employment_Rate+GDP+Working_Age_Population+Dwellings_and_Residential_Buildings+Essential_utilities_Cost_average+Housing_starts+No_Housing_units+Mortgage_Rate30_Year+Homes_for_sale+Building_Permits+Rental_Vacancy+Homeownership_Rate+Homeowner_non_natives+Homeowner_Vacancy_Rate', data = data_train).fit()\n",
        "lm1.params"
      ],
      "metadata": {
        "id": "7ZABV-PI2uqk",
        "colab": {
          "base_uri": "https://localhost:8080/"
        },
        "outputId": "b32515d9-5fc6-4e8d-fa3c-5f788e619781"
      },
      "execution_count": null,
      "outputs": [
        {
          "output_type": "execute_result",
          "data": {
            "text/plain": [
              "Intercept                              250.135929\n",
              "Unemployment_Rate                     -111.393502\n",
              "Employment_Rate                       -122.591736\n",
              "GDP                                   -103.794405\n",
              "Working_Age_Population                -385.388156\n",
              "Dwellings_and_Residential_Buildings     39.812456\n",
              "Essential_utilities_Cost_average       340.770036\n",
              "Housing_starts                          59.519413\n",
              "No_Housing_units                       610.928396\n",
              "Mortgage_Rate30_Year                    44.072347\n",
              "Homes_for_sale                          47.944950\n",
              "Building_Permits                       154.545212\n",
              "Rental_Vacancy                         -21.431163\n",
              "Homeownership_Rate                       4.297788\n",
              "Homeowner_non_natives                   -1.429196\n",
              "Homeowner_Vacancy_Rate                 100.483255\n",
              "dtype: float64"
            ]
          },
          "metadata": {},
          "execution_count": 794
        }
      ]
    },
    {
      "cell_type": "code",
      "source": [
        "print(lm1.summary()) "
      ],
      "metadata": {
        "id": "wt3qbmU63hoN",
        "colab": {
          "base_uri": "https://localhost:8080/"
        },
        "outputId": "3fd1732f-1932-4c28-d195-3b4967aa4ae6"
      },
      "execution_count": null,
      "outputs": [
        {
          "output_type": "stream",
          "name": "stdout",
          "text": [
            "                            OLS Regression Results                            \n",
            "==============================================================================\n",
            "Dep. Variable:                  Price   R-squared:                       0.981\n",
            "Model:                            OLS   Adj. R-squared:                  0.974\n",
            "Method:                 Least Squares   F-statistic:                     140.3\n",
            "Date:                Fri, 19 Aug 2022   Prob (F-statistic):           1.06e-29\n",
            "Time:                        14:46:37   Log-Likelihood:                -229.31\n",
            "No. Observations:                  56   AIC:                             490.6\n",
            "Df Residuals:                      40   BIC:                             523.0\n",
            "Df Model:                          15                                         \n",
            "Covariance Type:            nonrobust                                         \n",
            "=======================================================================================================\n",
            "                                          coef    std err          t      P>|t|      [0.025      0.975]\n",
            "-------------------------------------------------------------------------------------------------------\n",
            "Intercept                             250.1359    120.975      2.068      0.045       5.637     494.635\n",
            "Unemployment_Rate                    -111.3935    112.490     -0.990      0.328    -338.743     115.956\n",
            "Employment_Rate                      -122.5917    103.076     -1.189      0.241    -330.917      85.733\n",
            "GDP                                  -103.7944    208.716     -0.497      0.622    -525.625     318.037\n",
            "Working_Age_Population               -385.3882     98.258     -3.922      0.000    -583.975    -186.801\n",
            "Dwellings_and_Residential_Buildings    39.8125    103.488      0.385      0.702    -169.344     248.969\n",
            "Essential_utilities_Cost_average      340.7700    209.924      1.623      0.112     -83.502     765.042\n",
            "Housing_starts                         59.5194    101.947      0.584      0.563    -146.523     265.562\n",
            "No_Housing_units                      610.9284    348.446      1.753      0.087     -93.306    1315.163\n",
            "Mortgage_Rate30_Year                   44.0723     39.554      1.114      0.272     -35.869     124.014\n",
            "Homes_for_sale                         47.9450     35.859      1.337      0.189     -24.529     120.419\n",
            "Building_Permits                      154.5452    129.865      1.190      0.241    -107.922     417.013\n",
            "Rental_Vacancy                        -21.4312     26.471     -0.810      0.423     -74.932      32.070\n",
            "Homeownership_Rate                      4.2978     61.063      0.070      0.944    -119.114     127.710\n",
            "Homeowner_non_natives                  -1.4292     43.202     -0.033      0.974     -88.744      85.885\n",
            "Homeowner_Vacancy_Rate                100.4833     45.415      2.213      0.033       8.697     192.270\n",
            "==============================================================================\n",
            "Omnibus:                        6.718   Durbin-Watson:                   1.767\n",
            "Prob(Omnibus):                  0.035   Jarque-Bera (JB):                8.725\n",
            "Skew:                           0.343   Prob(JB):                       0.0127\n",
            "Kurtosis:                       4.808   Cond. No.                         432.\n",
            "==============================================================================\n",
            "\n",
            "Warnings:\n",
            "[1] Standard Errors assume that the covariance matrix of the errors is correctly specified.\n"
          ]
        }
      ]
    },
    {
      "cell_type": "code",
      "source": [
        "model2 = smf.ols(formula= 'Price ~ Working_Age_Population+Essential_utilities_Cost_average+No_Housing_units+Homes_for_sale+Building_Permits+Homeowner_Vacancy_Rate', data = data_train).fit()\n",
        "model2.params"
      ],
      "metadata": {
        "id": "-7aSlEQ34hy4",
        "colab": {
          "base_uri": "https://localhost:8080/"
        },
        "outputId": "33ae37e5-64b1-4ebc-d48c-f207914d362f"
      },
      "execution_count": null,
      "outputs": [
        {
          "output_type": "execute_result",
          "data": {
            "text/plain": [
              "Intercept                           125.529170\n",
              "Working_Age_Population             -310.247365\n",
              "Essential_utilities_Cost_average    298.178681\n",
              "No_Housing_units                    477.999072\n",
              "Homes_for_sale                       63.245186\n",
              "Building_Permits                    262.327686\n",
              "Homeowner_Vacancy_Rate              102.555950\n",
              "dtype: float64"
            ]
          },
          "metadata": {},
          "execution_count": 796
        }
      ]
    },
    {
      "cell_type": "code",
      "source": [
        "print(model2.summary()) "
      ],
      "metadata": {
        "id": "FDfE66m-4tPA",
        "colab": {
          "base_uri": "https://localhost:8080/"
        },
        "outputId": "ab14253b-8e81-45f1-c39d-305d67d98647"
      },
      "execution_count": null,
      "outputs": [
        {
          "output_type": "stream",
          "name": "stdout",
          "text": [
            "                            OLS Regression Results                            \n",
            "==============================================================================\n",
            "Dep. Variable:                  Price   R-squared:                       0.977\n",
            "Model:                            OLS   Adj. R-squared:                  0.974\n",
            "Method:                 Least Squares   F-statistic:                     350.7\n",
            "Date:                Fri, 19 Aug 2022   Prob (F-statistic):           1.82e-38\n",
            "Time:                        14:46:37   Log-Likelihood:                -234.88\n",
            "No. Observations:                  56   AIC:                             483.8\n",
            "Df Residuals:                      49   BIC:                             497.9\n",
            "Df Model:                           6                                         \n",
            "Covariance Type:            nonrobust                                         \n",
            "====================================================================================================\n",
            "                                       coef    std err          t      P>|t|      [0.025      0.975]\n",
            "----------------------------------------------------------------------------------------------------\n",
            "Intercept                          125.5292     23.965      5.238      0.000      77.371     173.688\n",
            "Working_Age_Population            -310.2474     54.219     -5.722      0.000    -419.204    -201.290\n",
            "Essential_utilities_Cost_average   298.1787    140.065      2.129      0.038      16.708     579.649\n",
            "No_Housing_units                   477.9991    132.668      3.603      0.001     211.393     744.605\n",
            "Homes_for_sale                      63.2452     26.577      2.380      0.021       9.836     116.654\n",
            "Building_Permits                   262.3277     15.409     17.024      0.000     231.362     293.294\n",
            "Homeowner_Vacancy_Rate             102.5559     32.697      3.137      0.003      36.850     168.262\n",
            "==============================================================================\n",
            "Omnibus:                        4.659   Durbin-Watson:                   1.728\n",
            "Prob(Omnibus):                  0.097   Jarque-Bera (JB):                5.660\n",
            "Skew:                           0.067   Prob(JB):                       0.0590\n",
            "Kurtosis:                       4.552   Cond. No.                         135.\n",
            "==============================================================================\n",
            "\n",
            "Warnings:\n",
            "[1] Standard Errors assume that the covariance matrix of the errors is correctly specified.\n"
          ]
        }
      ]
    },
    {
      "cell_type": "code",
      "source": [
        "mse = np.mean((model2.predict(data_train.drop('Price',axis=1))-data_train['Price'])**2)\n",
        "mse"
      ],
      "metadata": {
        "id": "NOL4ludu4vz6",
        "colab": {
          "base_uri": "https://localhost:8080/"
        },
        "outputId": "b9172561-d3c8-4ca8-a8f7-e672087528fb"
      },
      "execution_count": null,
      "outputs": [
        {
          "output_type": "execute_result",
          "data": {
            "text/plain": [
              "257.4302723856639"
            ]
          },
          "metadata": {},
          "execution_count": 798
        }
      ]
    },
    {
      "cell_type": "code",
      "source": [
        "print('The model RMSE on traing set: ', round(np.sqrt(mse),3))"
      ],
      "metadata": {
        "id": "Cv0Wdv3ErXHm",
        "colab": {
          "base_uri": "https://localhost:8080/"
        },
        "outputId": "02827ea1-e56c-44f0-9a26-f773aa58cf69"
      },
      "execution_count": null,
      "outputs": [
        {
          "output_type": "stream",
          "name": "stdout",
          "text": [
            "The model RMSE on traing set:  16.045\n"
          ]
        }
      ]
    },
    {
      "cell_type": "code",
      "source": [
        "ytest_predict =  model2.predict(X_test)"
      ],
      "metadata": {
        "id": "aI-uWtGu5d3J"
      },
      "execution_count": null,
      "outputs": []
    },
    {
      "cell_type": "markdown",
      "source": [
        "### **Mean sqaure error**"
      ],
      "metadata": {
        "id": "tZLYEILF58BX"
      }
    },
    {
      "cell_type": "code",
      "source": [
        "from sklearn.metrics import mean_squared_error\n",
        "mse_test = mean_squared_error(y_test,ytest_predict)\n",
        "print('The model RMSE on test set: ', round(np.sqrt(mse_test),3))"
      ],
      "metadata": {
        "id": "0E3sKGVD4YRG",
        "colab": {
          "base_uri": "https://localhost:8080/"
        },
        "outputId": "a1d04d3b-f2bc-4d0c-c159-9a4678a4c6ea"
      },
      "execution_count": null,
      "outputs": [
        {
          "output_type": "stream",
          "name": "stdout",
          "text": [
            "The model RMSE on test set:  11.78\n"
          ]
        }
      ]
    },
    {
      "cell_type": "code",
      "source": [
        "for i,j in np.array(model2.params.reset_index()):\n",
        "  print('({}) * {} +'.format(round(j,2),i),end=' ')"
      ],
      "metadata": {
        "id": "PQd0tf9W7Hab",
        "colab": {
          "base_uri": "https://localhost:8080/"
        },
        "outputId": "6d2ea2b4-df4c-4fe9-ab36-9e0109d0519c"
      },
      "execution_count": null,
      "outputs": [
        {
          "output_type": "stream",
          "name": "stdout",
          "text": [
            "(125.53) * Intercept + (-310.25) * Working_Age_Population + (298.18) * Essential_utilities_Cost_average + (478.0) * No_Housing_units + (63.25) * Homes_for_sale + (262.33) * Building_Permits + (102.56) * Homeowner_Vacancy_Rate + "
          ]
        }
      ]
    },
    {
      "cell_type": "code",
      "source": [
        "lr_train_RMSE=metrics.mean_squared_error(y_train,ytrain_predict, squared=False)\n",
        "lr_train_MSE=metrics.mean_squared_error(y_train,ytrain_predict)\n",
        "lr_train_MAPE=metrics.mean_absolute_percentage_error(y_train,ytrain_predict)\n",
        "lr_train_MAE=metrics.mean_absolute_error(y_train,ytrain_predict)\n",
        "lr_train_score=regression_model.score(X_train, y_train)"
      ],
      "metadata": {
        "id": "vQd2aFK4Vlj1"
      },
      "execution_count": null,
      "outputs": []
    },
    {
      "cell_type": "code",
      "source": [
        "lr_test_RMSE=metrics.mean_squared_error(y_test,ytest_predict, squared=False)\n",
        "lr_test_MSE=metrics.mean_squared_error(y_test,ytest_predict)\n",
        "lr_test_MAPE=metrics.mean_absolute_percentage_error(y_test,ytest_predict)\n",
        "lr_test_MAE=metrics.mean_absolute_error(y_test,ytest_predict)\n",
        "lr_test_score=regression_model.score(X_test, y_test)"
      ],
      "metadata": {
        "id": "dQCP5yBiVlj3"
      },
      "execution_count": null,
      "outputs": []
    },
    {
      "cell_type": "markdown",
      "source": [
        "## **Decision Tree**"
      ],
      "metadata": {
        "id": "FogDkiROdiP5"
      }
    },
    {
      "cell_type": "code",
      "source": [
        "df.head()"
      ],
      "metadata": {
        "colab": {
          "base_uri": "https://localhost:8080/",
          "height": 270
        },
        "id": "7cOFyCNwdnkT",
        "outputId": "c5ee7882-2db1-4bdc-8fd7-a22e6d55851c"
      },
      "execution_count": null,
      "outputs": [
        {
          "output_type": "execute_result",
          "data": {
            "text/plain": [
              "    Price$  Unemployment_Rate  Employment_Rate        GDP  \\\n",
              "0  353.674           5.805100        72.160431  3348727.5   \n",
              "1  362.148           5.915628        71.927346  3369339.0   \n",
              "2  371.499           5.776747        71.904513  3382935.3   \n",
              "3  380.025           5.937977        71.667275  3387355.3   \n",
              "4  387.964           5.956569        71.502400  3404858.5   \n",
              "\n",
              "   Working_Age_Population  Dwellings_and_Residential_Buildings  \\\n",
              "0             182810138.0                             169890.0   \n",
              "1             183479837.3                             174066.8   \n",
              "2             184160854.6                             174738.3   \n",
              "3             184720284.3                             177653.3   \n",
              "4             185858601.6                             181073.8   \n",
              "\n",
              "   Essential_utilities_Cost_average  Housing_starts  No_Housing_units  \\\n",
              "0                         65.036667            5169            119061   \n",
              "1                         65.710000            5073            119483   \n",
              "2                         66.796667            5092            119909   \n",
              "3                         66.500000            5189            120350   \n",
              "4                         67.930000            5208            120792   \n",
              "\n",
              "   Mortgage_Rate30_Year  Homes_for_sale  Building_Permits  Rental_Vacancy  \\\n",
              "0              6.971538            12.3              5143            3403   \n",
              "1              6.813077            12.5              5143            3176   \n",
              "2              6.289231            12.1              5236            3375   \n",
              "3              6.075385            12.0              5466            3479   \n",
              "4              5.840769            12.6              5419            3568   \n",
              "\n",
              "   Homeownership_Rate  Homeowner_non_natives  Homeowner_Vacancy_Rate  \n",
              "0                67.9                   53.5                     1.7  \n",
              "1                67.8                   55.3                     1.7  \n",
              "2                67.9                   54.0                     1.7  \n",
              "3                68.2                   55.2                     1.7  \n",
              "4                68.1                   55.7                     1.7  "
            ],
            "text/html": [
              "\n",
              "  <div id=\"df-15bd50c7-4b4f-4f11-9ebf-89abbc94dc63\">\n",
              "    <div class=\"colab-df-container\">\n",
              "      <div>\n",
              "<style scoped>\n",
              "    .dataframe tbody tr th:only-of-type {\n",
              "        vertical-align: middle;\n",
              "    }\n",
              "\n",
              "    .dataframe tbody tr th {\n",
              "        vertical-align: top;\n",
              "    }\n",
              "\n",
              "    .dataframe thead th {\n",
              "        text-align: right;\n",
              "    }\n",
              "</style>\n",
              "<table border=\"1\" class=\"dataframe\">\n",
              "  <thead>\n",
              "    <tr style=\"text-align: right;\">\n",
              "      <th></th>\n",
              "      <th>Price$</th>\n",
              "      <th>Unemployment_Rate</th>\n",
              "      <th>Employment_Rate</th>\n",
              "      <th>GDP</th>\n",
              "      <th>Working_Age_Population</th>\n",
              "      <th>Dwellings_and_Residential_Buildings</th>\n",
              "      <th>Essential_utilities_Cost_average</th>\n",
              "      <th>Housing_starts</th>\n",
              "      <th>No_Housing_units</th>\n",
              "      <th>Mortgage_Rate30_Year</th>\n",
              "      <th>Homes_for_sale</th>\n",
              "      <th>Building_Permits</th>\n",
              "      <th>Rental_Vacancy</th>\n",
              "      <th>Homeownership_Rate</th>\n",
              "      <th>Homeowner_non_natives</th>\n",
              "      <th>Homeowner_Vacancy_Rate</th>\n",
              "    </tr>\n",
              "  </thead>\n",
              "  <tbody>\n",
              "    <tr>\n",
              "      <th>0</th>\n",
              "      <td>353.674</td>\n",
              "      <td>5.805100</td>\n",
              "      <td>72.160431</td>\n",
              "      <td>3348727.5</td>\n",
              "      <td>182810138.0</td>\n",
              "      <td>169890.0</td>\n",
              "      <td>65.036667</td>\n",
              "      <td>5169</td>\n",
              "      <td>119061</td>\n",
              "      <td>6.971538</td>\n",
              "      <td>12.3</td>\n",
              "      <td>5143</td>\n",
              "      <td>3403</td>\n",
              "      <td>67.9</td>\n",
              "      <td>53.5</td>\n",
              "      <td>1.7</td>\n",
              "    </tr>\n",
              "    <tr>\n",
              "      <th>1</th>\n",
              "      <td>362.148</td>\n",
              "      <td>5.915628</td>\n",
              "      <td>71.927346</td>\n",
              "      <td>3369339.0</td>\n",
              "      <td>183479837.3</td>\n",
              "      <td>174066.8</td>\n",
              "      <td>65.710000</td>\n",
              "      <td>5073</td>\n",
              "      <td>119483</td>\n",
              "      <td>6.813077</td>\n",
              "      <td>12.5</td>\n",
              "      <td>5143</td>\n",
              "      <td>3176</td>\n",
              "      <td>67.8</td>\n",
              "      <td>55.3</td>\n",
              "      <td>1.7</td>\n",
              "    </tr>\n",
              "    <tr>\n",
              "      <th>2</th>\n",
              "      <td>371.499</td>\n",
              "      <td>5.776747</td>\n",
              "      <td>71.904513</td>\n",
              "      <td>3382935.3</td>\n",
              "      <td>184160854.6</td>\n",
              "      <td>174738.3</td>\n",
              "      <td>66.796667</td>\n",
              "      <td>5092</td>\n",
              "      <td>119909</td>\n",
              "      <td>6.289231</td>\n",
              "      <td>12.1</td>\n",
              "      <td>5236</td>\n",
              "      <td>3375</td>\n",
              "      <td>67.9</td>\n",
              "      <td>54.0</td>\n",
              "      <td>1.7</td>\n",
              "    </tr>\n",
              "    <tr>\n",
              "      <th>3</th>\n",
              "      <td>380.025</td>\n",
              "      <td>5.937977</td>\n",
              "      <td>71.667275</td>\n",
              "      <td>3387355.3</td>\n",
              "      <td>184720284.3</td>\n",
              "      <td>177653.3</td>\n",
              "      <td>66.500000</td>\n",
              "      <td>5189</td>\n",
              "      <td>120350</td>\n",
              "      <td>6.075385</td>\n",
              "      <td>12.0</td>\n",
              "      <td>5466</td>\n",
              "      <td>3479</td>\n",
              "      <td>68.2</td>\n",
              "      <td>55.2</td>\n",
              "      <td>1.7</td>\n",
              "    </tr>\n",
              "    <tr>\n",
              "      <th>4</th>\n",
              "      <td>387.964</td>\n",
              "      <td>5.956569</td>\n",
              "      <td>71.502400</td>\n",
              "      <td>3404858.5</td>\n",
              "      <td>185858601.6</td>\n",
              "      <td>181073.8</td>\n",
              "      <td>67.930000</td>\n",
              "      <td>5208</td>\n",
              "      <td>120792</td>\n",
              "      <td>5.840769</td>\n",
              "      <td>12.6</td>\n",
              "      <td>5419</td>\n",
              "      <td>3568</td>\n",
              "      <td>68.1</td>\n",
              "      <td>55.7</td>\n",
              "      <td>1.7</td>\n",
              "    </tr>\n",
              "  </tbody>\n",
              "</table>\n",
              "</div>\n",
              "      <button class=\"colab-df-convert\" onclick=\"convertToInteractive('df-15bd50c7-4b4f-4f11-9ebf-89abbc94dc63')\"\n",
              "              title=\"Convert this dataframe to an interactive table.\"\n",
              "              style=\"display:none;\">\n",
              "        \n",
              "  <svg xmlns=\"http://www.w3.org/2000/svg\" height=\"24px\"viewBox=\"0 0 24 24\"\n",
              "       width=\"24px\">\n",
              "    <path d=\"M0 0h24v24H0V0z\" fill=\"none\"/>\n",
              "    <path d=\"M18.56 5.44l.94 2.06.94-2.06 2.06-.94-2.06-.94-.94-2.06-.94 2.06-2.06.94zm-11 1L8.5 8.5l.94-2.06 2.06-.94-2.06-.94L8.5 2.5l-.94 2.06-2.06.94zm10 10l.94 2.06.94-2.06 2.06-.94-2.06-.94-.94-2.06-.94 2.06-2.06.94z\"/><path d=\"M17.41 7.96l-1.37-1.37c-.4-.4-.92-.59-1.43-.59-.52 0-1.04.2-1.43.59L10.3 9.45l-7.72 7.72c-.78.78-.78 2.05 0 2.83L4 21.41c.39.39.9.59 1.41.59.51 0 1.02-.2 1.41-.59l7.78-7.78 2.81-2.81c.8-.78.8-2.07 0-2.86zM5.41 20L4 18.59l7.72-7.72 1.47 1.35L5.41 20z\"/>\n",
              "  </svg>\n",
              "      </button>\n",
              "      \n",
              "  <style>\n",
              "    .colab-df-container {\n",
              "      display:flex;\n",
              "      flex-wrap:wrap;\n",
              "      gap: 12px;\n",
              "    }\n",
              "\n",
              "    .colab-df-convert {\n",
              "      background-color: #E8F0FE;\n",
              "      border: none;\n",
              "      border-radius: 50%;\n",
              "      cursor: pointer;\n",
              "      display: none;\n",
              "      fill: #1967D2;\n",
              "      height: 32px;\n",
              "      padding: 0 0 0 0;\n",
              "      width: 32px;\n",
              "    }\n",
              "\n",
              "    .colab-df-convert:hover {\n",
              "      background-color: #E2EBFA;\n",
              "      box-shadow: 0px 1px 2px rgba(60, 64, 67, 0.3), 0px 1px 3px 1px rgba(60, 64, 67, 0.15);\n",
              "      fill: #174EA6;\n",
              "    }\n",
              "\n",
              "    [theme=dark] .colab-df-convert {\n",
              "      background-color: #3B4455;\n",
              "      fill: #D2E3FC;\n",
              "    }\n",
              "\n",
              "    [theme=dark] .colab-df-convert:hover {\n",
              "      background-color: #434B5C;\n",
              "      box-shadow: 0px 1px 3px 1px rgba(0, 0, 0, 0.15);\n",
              "      filter: drop-shadow(0px 1px 2px rgba(0, 0, 0, 0.3));\n",
              "      fill: #FFFFFF;\n",
              "    }\n",
              "  </style>\n",
              "\n",
              "      <script>\n",
              "        const buttonEl =\n",
              "          document.querySelector('#df-15bd50c7-4b4f-4f11-9ebf-89abbc94dc63 button.colab-df-convert');\n",
              "        buttonEl.style.display =\n",
              "          google.colab.kernel.accessAllowed ? 'block' : 'none';\n",
              "\n",
              "        async function convertToInteractive(key) {\n",
              "          const element = document.querySelector('#df-15bd50c7-4b4f-4f11-9ebf-89abbc94dc63');\n",
              "          const dataTable =\n",
              "            await google.colab.kernel.invokeFunction('convertToInteractive',\n",
              "                                                     [key], {});\n",
              "          if (!dataTable) return;\n",
              "\n",
              "          const docLinkHtml = 'Like what you see? Visit the ' +\n",
              "            '<a target=\"_blank\" href=https://colab.research.google.com/notebooks/data_table.ipynb>data table notebook</a>'\n",
              "            + ' to learn more about interactive tables.';\n",
              "          element.innerHTML = '';\n",
              "          dataTable['output_type'] = 'display_data';\n",
              "          await google.colab.output.renderOutput(dataTable, element);\n",
              "          const docLink = document.createElement('div');\n",
              "          docLink.innerHTML = docLinkHtml;\n",
              "          element.appendChild(docLink);\n",
              "        }\n",
              "      </script>\n",
              "    </div>\n",
              "  </div>\n",
              "  "
            ]
          },
          "metadata": {},
          "execution_count": 805
        }
      ]
    },
    {
      "cell_type": "code",
      "source": [
        "X = df.drop(\"Price$\", axis=1)\n",
        "y = df.pop(\"Price$\")"
      ],
      "metadata": {
        "id": "o2LujhpZg-3Q"
      },
      "execution_count": null,
      "outputs": []
    },
    {
      "cell_type": "code",
      "source": [
        "X_train, X_test, y_train, y_test = train_test_split(X, y, test_size=0.30 , random_state=123)"
      ],
      "metadata": {
        "id": "QFJi1Pgeg5VS"
      },
      "execution_count": null,
      "outputs": []
    },
    {
      "cell_type": "code",
      "execution_count": null,
      "metadata": {
        "id": "PZEb8HjhCVj0"
      },
      "outputs": [],
      "source": [
        "from sklearn.tree import DecisionTreeRegressor\n",
        "tree = DecisionTreeRegressor(random_state = 123, max_depth=3)\n",
        "dt_model = tree.fit(X_train, y_train)"
      ]
    },
    {
      "cell_type": "markdown",
      "source": [
        "### **Rsquare**"
      ],
      "metadata": {
        "id": "xL1kBRF_lTYR"
      }
    },
    {
      "cell_type": "code",
      "source": [
        "print('The model R-squared score on train set: ', round(dt_model.score(X_train, y_train),3))\n",
        "print('The model R-squared score on test set: ', round(dt_model.score(X_test, y_test),3))"
      ],
      "metadata": {
        "colab": {
          "base_uri": "https://localhost:8080/"
        },
        "outputId": "0224112b-d153-467c-93d0-3ff143bd2b74",
        "id": "6oig6LAzlTYX"
      },
      "execution_count": null,
      "outputs": [
        {
          "output_type": "stream",
          "name": "stdout",
          "text": [
            "The model R-squared score on train set:  0.928\n",
            "The model R-squared score on test set:  0.921\n"
          ]
        }
      ]
    },
    {
      "cell_type": "code",
      "source": [
        "y_predict_train = dt_model.predict(X_train)\n",
        "y_predict_test = dt_model.predict(X_test)"
      ],
      "metadata": {
        "id": "ugRjH0Eah1Uh"
      },
      "execution_count": null,
      "outputs": []
    },
    {
      "cell_type": "code",
      "source": [
        "mse_train= mean_squared_error(y_train,y_predict_train)\n",
        "mse_test= mean_squared_error(y_test,y_predict_test)\n",
        "print('The model MSE on train set: ', round(mse_train,3))\n",
        "print('The model MSE on test set: ', round(mse_train,3))"
      ],
      "metadata": {
        "colab": {
          "base_uri": "https://localhost:8080/"
        },
        "outputId": "427144da-7c07-41a0-932b-2fdc346e8555",
        "id": "4ex0xDnclTYY"
      },
      "execution_count": null,
      "outputs": [
        {
          "output_type": "stream",
          "name": "stdout",
          "text": [
            "The model MSE on train set:  446.6\n",
            "The model MSE on test set:  446.6\n"
          ]
        }
      ]
    },
    {
      "cell_type": "code",
      "source": [
        "print('The model RMSE on train set: ', round(mse_train**(1/2.0),3))\n",
        "print('The model RMSE on test set: ', round(mse_test**(1/2.0),3))"
      ],
      "metadata": {
        "id": "CbLdmVYklTYY",
        "colab": {
          "base_uri": "https://localhost:8080/"
        },
        "outputId": "23417662-be28-4c90-e0a5-3434b32a7301"
      },
      "execution_count": null,
      "outputs": [
        {
          "output_type": "stream",
          "name": "stdout",
          "text": [
            "The model RMSE on train set:  21.133\n",
            "The model RMSE on test set:  38.813\n"
          ]
        }
      ]
    },
    {
      "cell_type": "code",
      "source": [
        "df_temp = pd.DataFrame({'Actual': y_test, 'Predicted': y_predict_test})\n",
        "df_temp = df_temp.head(100)\n",
        "df_temp.plot(kind='bar',figsize=(25,6))\n",
        "plt.grid(which='major', linestyle='-', linewidth='0.5', color='green')\n",
        "plt.grid(which='minor', linestyle=':', linewidth='0.5', color='black')\n",
        "plt.title('Acutal Test data v/s Predicated data')\n",
        "plt.show()"
      ],
      "metadata": {
        "colab": {
          "base_uri": "https://localhost:8080/",
          "height": 396
        },
        "id": "sXVvqjikoFK3",
        "outputId": "18c4107b-cff8-4e40-e093-7e44a3509190"
      },
      "execution_count": null,
      "outputs": [
        {
          "output_type": "display_data",
          "data": {
            "text/plain": [
              "<Figure size 1800x432 with 1 Axes>"
            ],
            "image/png": "[encoded data removed]"
          },
          "metadata": {}
        }
      ]
    },
    {
      "cell_type": "code",
      "source": [
        "dt_train_RMSE=metrics.mean_squared_error(y_train,y_predict_train, squared=False)\n",
        "dt_train_MSE=metrics.mean_squared_error(y_train,y_predict_train)\n",
        "dt_train_MAE=metrics.mean_absolute_error(y_train,y_predict_train)\n",
        "dt_train_score=dt_model.score(X_train, y_train)"
      ],
      "metadata": {
        "id": "qcWD0i4JfFLC"
      },
      "execution_count": null,
      "outputs": []
    },
    {
      "cell_type": "code",
      "source": [
        "dt_test_RMSE=metrics.mean_squared_error(y_test,y_predict_test, squared=False)\n",
        "dt_test_MSE=metrics.mean_squared_error(y_test,y_predict_test)\n",
        "dt_test_MAE=metrics.mean_absolute_error(y_test,y_predict_test)\n",
        "dt_test_score=dt_model.score(X_test, y_test)"
      ],
      "metadata": {
        "id": "3zevthsIfFLH"
      },
      "execution_count": null,
      "outputs": []
    },
    {
      "cell_type": "markdown",
      "source": [
        "## **Model training - Random Forest**"
      ],
      "metadata": {
        "id": "jVWspt-YYsb3"
      }
    },
    {
      "cell_type": "code",
      "execution_count": null,
      "metadata": {
        "id": "xIn0Z6Kexi9x"
      },
      "outputs": [],
      "source": [
        "from sklearn.ensemble import RandomForestRegressor\n",
        "rf = RandomForestRegressor(random_state = 123)\n",
        "rf_model = rf.fit(X_train, y_train)"
      ]
    },
    {
      "cell_type": "markdown",
      "source": [
        "### **Rsquare**"
      ],
      "metadata": {
        "id": "9OM76C7Oxi92"
      }
    },
    {
      "cell_type": "code",
      "source": [
        "print('The model R-squared score on train set: ', round(rf_model.score(X_train, y_train),3))\n",
        "print('The model R-squared score on test set: ', round(rf_model.score(X_test, y_test),3))"
      ],
      "metadata": {
        "colab": {
          "base_uri": "https://localhost:8080/"
        },
        "outputId": "358fc2e4-1c8b-403f-8189-ae13096ff313",
        "id": "NHfkog2exi92"
      },
      "execution_count": null,
      "outputs": [
        {
          "output_type": "stream",
          "name": "stdout",
          "text": [
            "The model R-squared score on train set:  0.973\n",
            "The model R-squared score on test set:  0.821\n"
          ]
        }
      ]
    },
    {
      "cell_type": "code",
      "source": [
        "y_predict_train = rf_model.predict(X_train)\n",
        "y_predict_test = rf_model.predict(X_test)"
      ],
      "metadata": {
        "id": "dfgHKGOBxi92"
      },
      "execution_count": null,
      "outputs": []
    },
    {
      "cell_type": "code",
      "source": [
        "mse_train= metrics.mean_squared_error(y_train,y_predict_train)\n",
        "mse_test= metrics.mean_squared_error(y_test,y_predict_test)\n",
        "print('The model MSE on train set: ', round(mse_train,3))\n",
        "print('The model MSE on test set: ', round(mse_train,3))"
      ],
      "metadata": {
        "colab": {
          "base_uri": "https://localhost:8080/"
        },
        "outputId": "b8bc253e-813e-41e5-8683-05ccb9645716",
        "id": "Dr96gNVSxi92"
      },
      "execution_count": null,
      "outputs": [
        {
          "output_type": "stream",
          "name": "stdout",
          "text": [
            "The model MSE on train set:  166.302\n",
            "The model MSE on test set:  166.302\n"
          ]
        }
      ]
    },
    {
      "cell_type": "code",
      "source": [
        "print('The model RMSE on train set: ', round(mse_train**(1/2.0),3))\n",
        "print('The model RMSE on test set: ', round(mse_test**(1/2.0),3))"
      ],
      "metadata": {
        "colab": {
          "base_uri": "https://localhost:8080/"
        },
        "outputId": "09664109-85cd-4e41-8089-f7940c0aded8",
        "id": "9UMnKzyaxi92"
      },
      "execution_count": null,
      "outputs": [
        {
          "output_type": "stream",
          "name": "stdout",
          "text": [
            "The model RMSE on train set:  12.896\n",
            "The model RMSE on test set:  58.357\n"
          ]
        }
      ]
    },
    {
      "cell_type": "code",
      "source": [
        "df_temp = pd.DataFrame({'Actual': y_test, 'Predicted': y_predict_test})\n",
        "df_temp = df_temp.head(100)\n",
        "df_temp.plot(kind='bar',figsize=(25,6))\n",
        "plt.grid(which='major', linestyle='-', linewidth='0.5', color='green')\n",
        "plt.grid(which='minor', linestyle=':', linewidth='0.5', color='black')\n",
        "plt.title('Acutal Test data v/s Predicated data')\n",
        "plt.show()"
      ],
      "metadata": {
        "outputId": "1f6b378e-a397-4b8d-9739-dd820b3a0b73",
        "colab": {
          "base_uri": "https://localhost:8080/",
          "height": 396
        },
        "id": "FgaiggNFxi93"
      },
      "execution_count": null,
      "outputs": [
        {
          "output_type": "display_data",
          "data": {
            "text/plain": [
              "<Figure size 1800x432 with 1 Axes>"
            ],
            "image/png": "[encoded data removed]"
          },
          "metadata": {}
        }
      ]
    },
    {
      "cell_type": "code",
      "source": [
        "rf_train_RMSE=metrics.mean_squared_error(y_train,y_predict_train, squared=False)\n",
        "rf_train_MSE=metrics.mean_squared_error(y_train,y_predict_train)\n",
        "rf_train_MAE=metrics.mean_absolute_error(y_train,y_predict_train)\n",
        "rf_train_score=rf_model.score(X_train, y_train)"
      ],
      "metadata": {
        "id": "5tvodUYAecSt"
      },
      "execution_count": null,
      "outputs": []
    },
    {
      "cell_type": "code",
      "source": [
        "rf_test_RMSE=metrics.mean_squared_error(y_test,y_predict_test, squared=False)\n",
        "rf_test_MSE=metrics.mean_squared_error(y_test,y_predict_test)\n",
        "rf_test_MAE=metrics.mean_absolute_error(y_test,y_predict_test)\n",
        "rf_test_score=rf_model.score(X_test, y_test)"
      ],
      "metadata": {
        "id": "rjTXUDFoecSy"
      },
      "execution_count": null,
      "outputs": []
    },
    {
      "cell_type": "markdown",
      "source": [
        "## **Model training - ANN**"
      ],
      "metadata": {
        "id": "lpgPH_rV6jVn"
      }
    },
    {
      "cell_type": "markdown",
      "source": [
        "### **Scaling-MinMaxScaler normalizes the data using the formula (x - min)/(max - min)**"
      ],
      "metadata": {
        "id": "9fLhHwSI6trQ"
      }
    },
    {
      "cell_type": "code",
      "source": [
        "from sklearn.preprocessing import MinMaxScaler\n",
        "minmax = MinMaxScaler()\n",
        "S_X = minmax.fit_transform(X)\n",
        "S_X = pd.DataFrame(S_X, columns=X.columns)  # ideally the training and test"
      ],
      "metadata": {
        "id": "KYbGdvuL6trW"
      },
      "execution_count": null,
      "outputs": []
    },
    {
      "cell_type": "code",
      "source": [
        "X_train, X_test, y_train, y_test = train_test_split(S_X, y, test_size=0.30 , random_state=40)"
      ],
      "metadata": {
        "id": "ZWnX-x4q6trW"
      },
      "execution_count": null,
      "outputs": []
    },
    {
      "cell_type": "code",
      "source": [
        "print('X_train',X_train.shape)\n",
        "print('X_test',X_test.shape)\n",
        "print('y_train',y_train.shape)\n",
        "print('y_test',y_test.shape)"
      ],
      "metadata": {
        "colab": {
          "base_uri": "https://localhost:8080/"
        },
        "outputId": "7bb606ab-3202-4c0f-eb36-d17f0a72ae5d",
        "id": "A-p-XKM66trW"
      },
      "execution_count": null,
      "outputs": [
        {
          "output_type": "stream",
          "name": "stdout",
          "text": [
            "X_train (56, 15)\n",
            "X_test (25, 15)\n",
            "y_train (56,)\n",
            "y_test (25,)\n"
          ]
        }
      ]
    },
    {
      "cell_type": "code",
      "execution_count": null,
      "metadata": {
        "id": "sa9eJxrN6jVn"
      },
      "outputs": [],
      "source": [
        "from sklearn.neural_network import MLPRegressor\n",
        "ann = MLPRegressor(random_state = 123, learning_rate_init=0.1)\n",
        "ann_model = ann.fit(X_train, y_train)"
      ]
    },
    {
      "cell_type": "markdown",
      "source": [
        "### **Rsquare**"
      ],
      "metadata": {
        "id": "2iMh07Ie6jVo"
      }
    },
    {
      "cell_type": "code",
      "source": [
        "print('The model R-squared score on train set: ', round(ann_model.score(X_train, y_train),3))\n",
        "print('The model R-squared score on test set: ', round(ann_model.score(X_test, y_test),3))"
      ],
      "metadata": {
        "id": "PvvvSioM6jVo",
        "colab": {
          "base_uri": "https://localhost:8080/"
        },
        "outputId": "31e22f0b-ee0d-4436-fc4a-3414262df2ca"
      },
      "execution_count": null,
      "outputs": [
        {
          "output_type": "stream",
          "name": "stdout",
          "text": [
            "The model R-squared score on train set:  0.958\n",
            "The model R-squared score on test set:  0.961\n"
          ]
        }
      ]
    },
    {
      "cell_type": "code",
      "source": [
        "y_predict_train = ann_model.predict(X_train)\n",
        "y_predict_test = ann_model.predict(X_test)"
      ],
      "metadata": {
        "id": "Ujow-8M26jVo"
      },
      "execution_count": null,
      "outputs": []
    },
    {
      "cell_type": "code",
      "source": [
        "from sklearn import metrics\n",
        "mse_train= metrics.mean_squared_error(y_train,y_predict_train)\n",
        "mse_test= metrics.mean_squared_error(y_test,y_predict_test)\n",
        "print('The model MSE on train set: ', round(mse_train,3))\n",
        "print('The model MSE on test set: ', round(mse_train,3))"
      ],
      "metadata": {
        "id": "ggwEr5q66jVo",
        "colab": {
          "base_uri": "https://localhost:8080/"
        },
        "outputId": "687ee41a-056b-4a74-a340-4fd094cc2053"
      },
      "execution_count": null,
      "outputs": [
        {
          "output_type": "stream",
          "name": "stdout",
          "text": [
            "The model MSE on train set:  480.314\n",
            "The model MSE on test set:  480.314\n"
          ]
        }
      ]
    },
    {
      "cell_type": "code",
      "source": [
        "print('The model RMSE on train set: ', round(mse_train**(1/2.0),3))\n",
        "print('The model RMSE on test set: ', round(mse_test**(1/2.0),3))"
      ],
      "metadata": {
        "id": "SPkNifMY6jVo",
        "colab": {
          "base_uri": "https://localhost:8080/"
        },
        "outputId": "0258362f-5bc1-41fb-a169-919d89d6b469"
      },
      "execution_count": null,
      "outputs": [
        {
          "output_type": "stream",
          "name": "stdout",
          "text": [
            "The model RMSE on train set:  21.916\n",
            "The model RMSE on test set:  18.994\n"
          ]
        }
      ]
    },
    {
      "cell_type": "code",
      "source": [
        "df_temp = pd.DataFrame({'Actual': y_test, 'Predicted': y_predict_test})\n",
        "df_temp = df_temp.head(100)\n",
        "df_temp.plot(kind='bar',figsize=(25,6))\n",
        "plt.grid(which='major', linestyle='-', linewidth='0.5', color='green')\n",
        "plt.grid(which='minor', linestyle=':', linewidth='0.5', color='black')\n",
        "plt.title('Acutal Test data v/s Predicated data')\n",
        "plt.show()"
      ],
      "metadata": {
        "id": "hd7695AS6jVo",
        "colab": {
          "base_uri": "https://localhost:8080/",
          "height": 396
        },
        "outputId": "76591e26-4aca-4779-c3d7-d7288cf30046"
      },
      "execution_count": null,
      "outputs": [
        {
          "output_type": "display_data",
          "data": {
            "text/plain": [
              "<Figure size 1800x432 with 1 Axes>"
            ],
            "image/png": "[encoded data removed]"
          },
          "metadata": {}
        }
      ]
    },
    {
      "cell_type": "code",
      "source": [
        "ann_train_RMSE=metrics.mean_squared_error(y_train,y_predict_train, squared=False)\n",
        "ann_train_MSE=metrics.mean_squared_error(y_train,y_predict_train)\n",
        "ann_train_MAE=metrics.mean_absolute_error(y_train,y_predict_train)\n",
        "ann_train_score=ann_model.score(X_train, y_train)"
      ],
      "metadata": {
        "id": "lShN5RVVVaLQ"
      },
      "execution_count": null,
      "outputs": []
    },
    {
      "cell_type": "code",
      "source": [
        "ann_test_RMSE=metrics.mean_squared_error(y_test,y_predict_test, squared=False)\n",
        "ann_test_MSE=metrics.mean_squared_error(y_test,y_predict_test)\n",
        "ann_test_MAE=metrics.mean_absolute_error(y_test,y_predict_test)\n",
        "ann_test_score=ann_model.score(X_test, y_test)"
      ],
      "metadata": {
        "id": "c_pAa7UBVaLQ"
      },
      "execution_count": null,
      "outputs": []
    },
    {
      "cell_type": "markdown",
      "source": [
        "### **Ensemble**"
      ],
      "metadata": {
        "id": "5jjs-BdtOOdd"
      }
    },
    {
      "cell_type": "code",
      "source": [
        "from sklearn.ensemble import VotingRegressor\n",
        "model1 = LinearRegression()\n",
        "model2 = DecisionTreeRegressor(random_state=10)\n",
        "model3 = MLPRegressor(random_state=10, learning_rate_init=0.1)\n",
        "model = VotingRegressor(estimators=[('regression_model', model1), ('tree', model2), ('ann', model3)])\n",
        "model.fit(X_train,y_train)\n",
        "Em_test = model.score(X_test,y_test)\n",
        "Em_train = model.score(X_train,y_train)"
      ],
      "metadata": {
        "id": "mnV4XXPS5dX6"
      },
      "execution_count": null,
      "outputs": []
    },
    {
      "cell_type": "code",
      "source": [
        "model1.fit(X_train,y_train)\n",
        "model2.fit(X_train,y_train)\n",
        "model3.fit(X_train,y_train)"
      ],
      "metadata": {
        "id": "AWd-Ufe6b2qT",
        "colab": {
          "base_uri": "https://localhost:8080/"
        },
        "outputId": "36427559-dde6-424b-ed9b-a886fc94ffb3"
      },
      "execution_count": null,
      "outputs": [
        {
          "output_type": "execute_result",
          "data": {
            "text/plain": [
              "MLPRegressor(learning_rate_init=0.1, random_state=10)"
            ]
          },
          "metadata": {},
          "execution_count": 836
        }
      ]
    },
    {
      "cell_type": "code",
      "source": [
        "y_predict_train = model.predict(X_train)\n",
        "y_predict_test = model.predict(X_test)"
      ],
      "metadata": {
        "id": "VGcRHtpNcqeR"
      },
      "execution_count": null,
      "outputs": []
    },
    {
      "cell_type": "code",
      "source": [
        "pred = model.predict(X_test)\n",
        "pred1 = model1.predict(X_test)\n",
        "pred2 = model2.predict(X_test)\n",
        "pred3 = model3.predict(X_test)\n",
        "finalpred=(pred+pred1+pred2+pred3)/4\n",
        "print('The final ensemble model predictions on test set value is as follows: ', finalpred,3)"
      ],
      "metadata": {
        "id": "eGyLqU65GVTA",
        "colab": {
          "base_uri": "https://localhost:8080/"
        },
        "outputId": "c2fcf7f4-aac1-4429-8dd4-494ab28269d1"
      },
      "execution_count": null,
      "outputs": [
        {
          "output_type": "stream",
          "name": "stdout",
          "text": [
            "The final ensemble model predictions on test set value is as follows:  [548.78436601 461.17846531 623.61814652 442.67701968 437.06142252\n",
            " 521.78049382 429.11436487 420.06537604 442.44421161 457.96624981\n",
            " 434.85209225 537.28076917 479.8272219  415.66255124 347.66241365\n",
            " 621.02309131 529.90405792 694.6778449  729.19026347 486.50291849\n",
            " 375.74050218 425.94018125 488.59080748 413.9343083  356.44851683] 3\n"
          ]
        }
      ]
    },
    {
      "cell_type": "code",
      "source": [
        "df_temp = pd.DataFrame({'Actual': y_test, 'Predicted': y_predict_test})\n",
        "df_temp = df_temp.head(100)\n",
        "df_temp.plot(kind='bar',figsize=(25,6))\n",
        "plt.grid(which='major', linestyle='-', linewidth='0.5', color='green')\n",
        "plt.grid(which='minor', linestyle=':', linewidth='0.5', color='black')\n",
        "plt.title('Acutal Test data v/s Predicated data')\n",
        "plt.show()"
      ],
      "metadata": {
        "colab": {
          "base_uri": "https://localhost:8080/",
          "height": 396
        },
        "id": "rA41MsbebylS",
        "outputId": "f785fe17-70d9-40c8-bcd7-497e979bedb0"
      },
      "execution_count": null,
      "outputs": [
        {
          "output_type": "display_data",
          "data": {
            "text/plain": [
              "<Figure size 1800x432 with 1 Axes>"
            ],
            "image/png": "[encoded data removed]"
          },
          "metadata": {}
        }
      ]
    },
    {
      "cell_type": "code",
      "source": [
        "Em_train_RMSE=metrics.mean_squared_error(y_train,y_predict_train, squared=False)\n",
        "Em_train_MSE=metrics.mean_squared_error(y_train,y_predict_train)\n",
        "Em_train_MAE=metrics.mean_absolute_error(y_train,y_predict_train)\n",
        "Em_train_score=model.score(X_train, y_train)"
      ],
      "metadata": {
        "id": "FkB07xJtc0Na"
      },
      "execution_count": null,
      "outputs": []
    },
    {
      "cell_type": "code",
      "source": [
        "Em_test_RMSE=metrics.mean_squared_error(y_test,pred, squared=False)\n",
        "Em_test_MSE=metrics.mean_squared_error(y_test,pred)\n",
        "Em_test_MAE=metrics.mean_absolute_error(y_test,pred)\n",
        "Em_test_score=model.score(X_test, y_test)"
      ],
      "metadata": {
        "id": "FDFEx3NBc0Nb"
      },
      "execution_count": null,
      "outputs": []
    },
    {
      "cell_type": "markdown",
      "source": [
        "# **Compare**"
      ],
      "metadata": {
        "id": "skbfwun3VBhe"
      }
    },
    {
      "cell_type": "code",
      "source": [
        "index=['MAE', 'MSE', 'RMSE', 'Score']\n",
        "data = pd.DataFrame({'LR Train':[lr_train_MAE,lr_train_MSE,lr_train_RMSE, lr_train_score],\n",
        "       'LR Test':[lr_test_MAE,lr_test_MSE,lr_test_RMSE, lr_test_score],\n",
        "       'Decision Tree Train':[dt_train_MAE,dt_train_MSE,dt_train_RMSE, dt_train_score],\n",
        "       'Decision Tree Test':[dt_test_MAE,dt_test_MSE,dt_test_RMSE, dt_test_score], \n",
        "       'Random Forest Train':[rf_train_MAE,rf_train_MSE,rf_train_RMSE, rf_train_score],\n",
        "       'Random Forest Test':[rf_test_MAE,rf_test_MSE,rf_test_RMSE, rf_test_score],\n",
        "       'ANN Train':[ann_train_MAE,ann_train_MSE,ann_train_RMSE, ann_train_score],\n",
        "       'ANN Test':[ann_test_MAE,ann_test_MSE,ann_test_RMSE, ann_test_score],\n",
        "       'Emsemble Train':[Em_train_MAE,Em_train_MSE,Em_train_RMSE, Em_train], \n",
        "       'Emsemble Test':[Em_test_MAE,Em_test_MSE,Em_test_RMSE, Em_test]},index=index)\n",
        "round(data,2)"
      ],
      "metadata": {
        "id": "DqUuB6T3VAp1",
        "colab": {
          "base_uri": "https://localhost:8080/",
          "height": 174
        },
        "outputId": "2d9aa0ac-5c5e-4260-fcf2-2a4b7a6b0a4e"
      },
      "execution_count": null,
      "outputs": [
        {
          "output_type": "execute_result",
          "data": {
            "text/plain": [
              "       LR Train  LR Test  Decision Tree Train  Decision Tree Test  \\\n",
              "MAE       10.94     8.63                15.11               30.38   \n",
              "MSE      211.01   138.76               446.60             1506.48   \n",
              "RMSE      14.53    11.78                21.13               38.81   \n",
              "Score      0.98     0.98                 0.93                0.92   \n",
              "\n",
              "       Random Forest Train  Random Forest Test  ANN Train  ANN Test  \\\n",
              "MAE                   5.40               30.01      15.20     15.32   \n",
              "MSE                 166.30             3405.49     480.31    360.76   \n",
              "RMSE                 12.90               58.36      21.92     18.99   \n",
              "Score                 0.97                0.82       0.96      0.96   \n",
              "\n",
              "       Emsemble Train  Emsemble Test  \n",
              "MAE              7.90          10.72  \n",
              "MSE            123.23         174.33  \n",
              "RMSE            11.10          13.20  \n",
              "Score            0.99           0.98  "
            ],
            "text/html": [
              "\n",
              "  <div id=\"df-87061b98-b2fb-485d-8ca1-46a1fabd34d1\">\n",
              "    <div class=\"colab-df-container\">\n",
              "      <div>\n",
              "<style scoped>\n",
              "    .dataframe tbody tr th:only-of-type {\n",
              "        vertical-align: middle;\n",
              "    }\n",
              "\n",
              "    .dataframe tbody tr th {\n",
              "        vertical-align: top;\n",
              "    }\n",
              "\n",
              "    .dataframe thead th {\n",
              "        text-align: right;\n",
              "    }\n",
              "</style>\n",
              "<table border=\"1\" class=\"dataframe\">\n",
              "  <thead>\n",
              "    <tr style=\"text-align: right;\">\n",
              "      <th></th>\n",
              "      <th>LR Train</th>\n",
              "      <th>LR Test</th>\n",
              "      <th>Decision Tree Train</th>\n",
              "      <th>Decision Tree Test</th>\n",
              "      <th>Random Forest Train</th>\n",
              "      <th>Random Forest Test</th>\n",
              "      <th>ANN Train</th>\n",
              "      <th>ANN Test</th>\n",
              "      <th>Emsemble Train</th>\n",
              "      <th>Emsemble Test</th>\n",
              "    </tr>\n",
              "  </thead>\n",
              "  <tbody>\n",
              "    <tr>\n",
              "      <th>MAE</th>\n",
              "      <td>10.94</td>\n",
              "      <td>8.63</td>\n",
              "      <td>15.11</td>\n",
              "      <td>30.38</td>\n",
              "      <td>5.40</td>\n",
              "      <td>30.01</td>\n",
              "      <td>15.20</td>\n",
              "      <td>15.32</td>\n",
              "      <td>7.90</td>\n",
              "      <td>10.72</td>\n",
              "    </tr>\n",
              "    <tr>\n",
              "      <th>MSE</th>\n",
              "      <td>211.01</td>\n",
              "      <td>138.76</td>\n",
              "      <td>446.60</td>\n",
              "      <td>1506.48</td>\n",
              "      <td>166.30</td>\n",
              "      <td>3405.49</td>\n",
              "      <td>480.31</td>\n",
              "      <td>360.76</td>\n",
              "      <td>123.23</td>\n",
              "      <td>174.33</td>\n",
              "    </tr>\n",
              "    <tr>\n",
              "      <th>RMSE</th>\n",
              "      <td>14.53</td>\n",
              "      <td>11.78</td>\n",
              "      <td>21.13</td>\n",
              "      <td>38.81</td>\n",
              "      <td>12.90</td>\n",
              "      <td>58.36</td>\n",
              "      <td>21.92</td>\n",
              "      <td>18.99</td>\n",
              "      <td>11.10</td>\n",
              "      <td>13.20</td>\n",
              "    </tr>\n",
              "    <tr>\n",
              "      <th>Score</th>\n",
              "      <td>0.98</td>\n",
              "      <td>0.98</td>\n",
              "      <td>0.93</td>\n",
              "      <td>0.92</td>\n",
              "      <td>0.97</td>\n",
              "      <td>0.82</td>\n",
              "      <td>0.96</td>\n",
              "      <td>0.96</td>\n",
              "      <td>0.99</td>\n",
              "      <td>0.98</td>\n",
              "    </tr>\n",
              "  </tbody>\n",
              "</table>\n",
              "</div>\n",
              "      <button class=\"colab-df-convert\" onclick=\"convertToInteractive('df-87061b98-b2fb-485d-8ca1-46a1fabd34d1')\"\n",
              "              title=\"Convert this dataframe to an interactive table.\"\n",
              "              style=\"display:none;\">\n",
              "        \n",
              "  <svg xmlns=\"http://www.w3.org/2000/svg\" height=\"24px\"viewBox=\"0 0 24 24\"\n",
              "       width=\"24px\">\n",
              "    <path d=\"M0 0h24v24H0V0z\" fill=\"none\"/>\n",
              "    <path d=\"M18.56 5.44l.94 2.06.94-2.06 2.06-.94-2.06-.94-.94-2.06-.94 2.06-2.06.94zm-11 1L8.5 8.5l.94-2.06 2.06-.94-2.06-.94L8.5 2.5l-.94 2.06-2.06.94zm10 10l.94 2.06.94-2.06 2.06-.94-2.06-.94-.94-2.06-.94 2.06-2.06.94z\"/><path d=\"M17.41 7.96l-1.37-1.37c-.4-.4-.92-.59-1.43-.59-.52 0-1.04.2-1.43.59L10.3 9.45l-7.72 7.72c-.78.78-.78 2.05 0 2.83L4 21.41c.39.39.9.59 1.41.59.51 0 1.02-.2 1.41-.59l7.78-7.78 2.81-2.81c.8-.78.8-2.07 0-2.86zM5.41 20L4 18.59l7.72-7.72 1.47 1.35L5.41 20z\"/>\n",
              "  </svg>\n",
              "      </button>\n",
              "      \n",
              "  <style>\n",
              "    .colab-df-container {\n",
              "      display:flex;\n",
              "      flex-wrap:wrap;\n",
              "      gap: 12px;\n",
              "    }\n",
              "\n",
              "    .colab-df-convert {\n",
              "      background-color: #E8F0FE;\n",
              "      border: none;\n",
              "      border-radius: 50%;\n",
              "      cursor: pointer;\n",
              "      display: none;\n",
              "      fill: #1967D2;\n",
              "      height: 32px;\n",
              "      padding: 0 0 0 0;\n",
              "      width: 32px;\n",
              "    }\n",
              "\n",
              "    .colab-df-convert:hover {\n",
              "      background-color: #E2EBFA;\n",
              "      box-shadow: 0px 1px 2px rgba(60, 64, 67, 0.3), 0px 1px 3px 1px rgba(60, 64, 67, 0.15);\n",
              "      fill: #174EA6;\n",
              "    }\n",
              "\n",
              "    [theme=dark] .colab-df-convert {\n",
              "      background-color: #3B4455;\n",
              "      fill: #D2E3FC;\n",
              "    }\n",
              "\n",
              "    [theme=dark] .colab-df-convert:hover {\n",
              "      background-color: #434B5C;\n",
              "      box-shadow: 0px 1px 3px 1px rgba(0, 0, 0, 0.15);\n",
              "      filter: drop-shadow(0px 1px 2px rgba(0, 0, 0, 0.3));\n",
              "      fill: #FFFFFF;\n",
              "    }\n",
              "  </style>\n",
              "\n",
              "      <script>\n",
              "        const buttonEl =\n",
              "          document.querySelector('#df-87061b98-b2fb-485d-8ca1-46a1fabd34d1 button.colab-df-convert');\n",
              "        buttonEl.style.display =\n",
              "          google.colab.kernel.accessAllowed ? 'block' : 'none';\n",
              "\n",
              "        async function convertToInteractive(key) {\n",
              "          const element = document.querySelector('#df-87061b98-b2fb-485d-8ca1-46a1fabd34d1');\n",
              "          const dataTable =\n",
              "            await google.colab.kernel.invokeFunction('convertToInteractive',\n",
              "                                                     [key], {});\n",
              "          if (!dataTable) return;\n",
              "\n",
              "          const docLinkHtml = 'Like what you see? Visit the ' +\n",
              "            '<a target=\"_blank\" href=https://colab.research.google.com/notebooks/data_table.ipynb>data table notebook</a>'\n",
              "            + ' to learn more about interactive tables.';\n",
              "          element.innerHTML = '';\n",
              "          dataTable['output_type'] = 'display_data';\n",
              "          await google.colab.output.renderOutput(dataTable, element);\n",
              "          const docLink = document.createElement('div');\n",
              "          docLink.innerHTML = docLinkHtml;\n",
              "          element.appendChild(docLink);\n",
              "        }\n",
              "      </script>\n",
              "    </div>\n",
              "  </div>\n",
              "  "
            ]
          },
          "metadata": {},
          "execution_count": 842
        }
      ]
    },
    {
      "cell_type": "code",
      "source": [
        ""
      ],
      "metadata": {
        "id": "MlcU-QSZcLdF"
      },
      "execution_count": null,
      "outputs": []
    }
  ]
}